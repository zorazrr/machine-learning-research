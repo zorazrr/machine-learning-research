{
  "nbformat": 4,
  "nbformat_minor": 0,
  "metadata": {
    "colab": {
      "name": "backPain.ipynb",
      "provenance": [],
      "authorship_tag": "ABX9TyNnd/ZoPK4xSOrH7IPwjuBz"
    },
    "kernelspec": {
      "name": "python3",
      "display_name": "Python 3"
    },
    "widgets": {
      "application/vnd.jupyter.widget-state+json": {
        "a1b0c1ed241743b79d824d8f8d4a7853": {
          "model_module": "@jupyter-widgets/controls",
          "model_name": "HBoxModel",
          "state": {
            "_view_name": "HBoxView",
            "_dom_classes": [],
            "_model_name": "HBoxModel",
            "_view_module": "@jupyter-widgets/controls",
            "_model_module_version": "1.5.0",
            "_view_count": null,
            "_view_module_version": "1.5.0",
            "box_style": "",
            "layout": "IPY_MODEL_d1d952c6fa4744209976da5c971f03de",
            "_model_module": "@jupyter-widgets/controls",
            "children": [
              "IPY_MODEL_7a0aa174f2464f3b8c2f3b6ec11028bf",
              "IPY_MODEL_76ff6bde546748a198f6af88c2442e9c"
            ]
          }
        },
        "d1d952c6fa4744209976da5c971f03de": {
          "model_module": "@jupyter-widgets/base",
          "model_name": "LayoutModel",
          "state": {
            "_view_name": "LayoutView",
            "grid_template_rows": null,
            "right": null,
            "justify_content": null,
            "_view_module": "@jupyter-widgets/base",
            "overflow": null,
            "_model_module_version": "1.2.0",
            "_view_count": null,
            "flex_flow": null,
            "width": null,
            "min_width": null,
            "border": null,
            "align_items": null,
            "bottom": null,
            "_model_module": "@jupyter-widgets/base",
            "top": null,
            "grid_column": null,
            "overflow_y": null,
            "overflow_x": null,
            "grid_auto_flow": null,
            "grid_area": null,
            "grid_template_columns": null,
            "flex": null,
            "_model_name": "LayoutModel",
            "justify_items": null,
            "grid_row": null,
            "max_height": null,
            "align_content": null,
            "visibility": null,
            "align_self": null,
            "height": null,
            "min_height": null,
            "padding": null,
            "grid_auto_rows": null,
            "grid_gap": null,
            "max_width": null,
            "order": null,
            "_view_module_version": "1.2.0",
            "grid_template_areas": null,
            "object_position": null,
            "object_fit": null,
            "grid_auto_columns": null,
            "margin": null,
            "display": null,
            "left": null
          }
        },
        "7a0aa174f2464f3b8c2f3b6ec11028bf": {
          "model_module": "@jupyter-widgets/controls",
          "model_name": "FloatProgressModel",
          "state": {
            "_view_name": "ProgressView",
            "style": "IPY_MODEL_cfd8bf9f6d38450a836670ba2d3f045c",
            "_dom_classes": [],
            "description": "0.05358802154660225: 100%",
            "_model_name": "FloatProgressModel",
            "bar_style": "success",
            "max": 2400,
            "_view_module": "@jupyter-widgets/controls",
            "_model_module_version": "1.5.0",
            "value": 2400,
            "_view_count": null,
            "_view_module_version": "1.5.0",
            "orientation": "horizontal",
            "min": 0,
            "description_tooltip": null,
            "_model_module": "@jupyter-widgets/controls",
            "layout": "IPY_MODEL_680d4ab6efcd4b1c9c43fa084bb1e698"
          }
        },
        "76ff6bde546748a198f6af88c2442e9c": {
          "model_module": "@jupyter-widgets/controls",
          "model_name": "HTMLModel",
          "state": {
            "_view_name": "HTMLView",
            "style": "IPY_MODEL_175816ba717545d5a62e1bf941911d32",
            "_dom_classes": [],
            "description": "",
            "_model_name": "HTMLModel",
            "placeholder": "​",
            "_view_module": "@jupyter-widgets/controls",
            "_model_module_version": "1.5.0",
            "value": " 2400/2400 [05:06&lt;00:00,  7.83it/s]",
            "_view_count": null,
            "_view_module_version": "1.5.0",
            "description_tooltip": null,
            "_model_module": "@jupyter-widgets/controls",
            "layout": "IPY_MODEL_6c3516ed760349d9998dd52b5044fe2b"
          }
        },
        "cfd8bf9f6d38450a836670ba2d3f045c": {
          "model_module": "@jupyter-widgets/controls",
          "model_name": "ProgressStyleModel",
          "state": {
            "_view_name": "StyleView",
            "_model_name": "ProgressStyleModel",
            "description_width": "initial",
            "_view_module": "@jupyter-widgets/base",
            "_model_module_version": "1.5.0",
            "_view_count": null,
            "_view_module_version": "1.2.0",
            "bar_color": null,
            "_model_module": "@jupyter-widgets/controls"
          }
        },
        "680d4ab6efcd4b1c9c43fa084bb1e698": {
          "model_module": "@jupyter-widgets/base",
          "model_name": "LayoutModel",
          "state": {
            "_view_name": "LayoutView",
            "grid_template_rows": null,
            "right": null,
            "justify_content": null,
            "_view_module": "@jupyter-widgets/base",
            "overflow": null,
            "_model_module_version": "1.2.0",
            "_view_count": null,
            "flex_flow": null,
            "width": null,
            "min_width": null,
            "border": null,
            "align_items": null,
            "bottom": null,
            "_model_module": "@jupyter-widgets/base",
            "top": null,
            "grid_column": null,
            "overflow_y": null,
            "overflow_x": null,
            "grid_auto_flow": null,
            "grid_area": null,
            "grid_template_columns": null,
            "flex": null,
            "_model_name": "LayoutModel",
            "justify_items": null,
            "grid_row": null,
            "max_height": null,
            "align_content": null,
            "visibility": null,
            "align_self": null,
            "height": null,
            "min_height": null,
            "padding": null,
            "grid_auto_rows": null,
            "grid_gap": null,
            "max_width": null,
            "order": null,
            "_view_module_version": "1.2.0",
            "grid_template_areas": null,
            "object_position": null,
            "object_fit": null,
            "grid_auto_columns": null,
            "margin": null,
            "display": null,
            "left": null
          }
        },
        "175816ba717545d5a62e1bf941911d32": {
          "model_module": "@jupyter-widgets/controls",
          "model_name": "DescriptionStyleModel",
          "state": {
            "_view_name": "StyleView",
            "_model_name": "DescriptionStyleModel",
            "description_width": "",
            "_view_module": "@jupyter-widgets/base",
            "_model_module_version": "1.5.0",
            "_view_count": null,
            "_view_module_version": "1.2.0",
            "_model_module": "@jupyter-widgets/controls"
          }
        },
        "6c3516ed760349d9998dd52b5044fe2b": {
          "model_module": "@jupyter-widgets/base",
          "model_name": "LayoutModel",
          "state": {
            "_view_name": "LayoutView",
            "grid_template_rows": null,
            "right": null,
            "justify_content": null,
            "_view_module": "@jupyter-widgets/base",
            "overflow": null,
            "_model_module_version": "1.2.0",
            "_view_count": null,
            "flex_flow": null,
            "width": null,
            "min_width": null,
            "border": null,
            "align_items": null,
            "bottom": null,
            "_model_module": "@jupyter-widgets/base",
            "top": null,
            "grid_column": null,
            "overflow_y": null,
            "overflow_x": null,
            "grid_auto_flow": null,
            "grid_area": null,
            "grid_template_columns": null,
            "flex": null,
            "_model_name": "LayoutModel",
            "justify_items": null,
            "grid_row": null,
            "max_height": null,
            "align_content": null,
            "visibility": null,
            "align_self": null,
            "height": null,
            "min_height": null,
            "padding": null,
            "grid_auto_rows": null,
            "grid_gap": null,
            "max_width": null,
            "order": null,
            "_view_module_version": "1.2.0",
            "grid_template_areas": null,
            "object_position": null,
            "object_fit": null,
            "grid_auto_columns": null,
            "margin": null,
            "display": null,
            "left": null
          }
        }
      }
    }
  },
  "cells": [
    {
      "cell_type": "markdown",
      "metadata": {
        "id": "wrS7e3vBVBYp",
        "colab_type": "text"
      },
      "source": [
        "# Lower Back Pain Symptoms"
      ]
    },
    {
      "cell_type": "markdown",
      "metadata": {
        "id": "KuQJN1sfVFu_",
        "colab_type": "text"
      },
      "source": [
        "## Notes\n",
        "[Data Set Source](https://www.kaggle.com/sammy123/lower-back-pain-symptoms-dataset)   \n",
        "1. pelvic_incidence\n",
        "2. pelvic_tilt\n",
        "3. lumbar_lordosis_angle\n",
        "4. sacral_slope\n",
        "5. pelvic_radius\n",
        "6. degree_spondylolisthesis\n",
        "7. pelvic_slope\n",
        "8. Direct_tilt\n",
        "9. thoracic_slope\n",
        "10. cervical_tilt\n",
        "11. sacrum_angle\n",
        "12. scoliosis_slope\n",
        "\n"
      ]
    },
    {
      "cell_type": "markdown",
      "metadata": {
        "id": "BMS60J-IFZB4",
        "colab_type": "text"
      },
      "source": [
        "## Set up"
      ]
    },
    {
      "cell_type": "code",
      "metadata": {
        "id": "Dd7llSNSFbyE",
        "colab_type": "code",
        "colab": {
          "base_uri": "https://localhost:8080/",
          "height": 34
        },
        "outputId": "6381da5e-dd8b-4527-90aa-2102d968c366"
      },
      "source": [
        "from google.colab import drive\n",
        "drive.mount('/content/drive')"
      ],
      "execution_count": 100,
      "outputs": [
        {
          "output_type": "stream",
          "text": [
            "Drive already mounted at /content/drive; to attempt to forcibly remount, call drive.mount(\"/content/drive\", force_remount=True).\n"
          ],
          "name": "stdout"
        }
      ]
    },
    {
      "cell_type": "code",
      "metadata": {
        "id": "bTMWpow8KDNV",
        "colab_type": "code",
        "colab": {
          "base_uri": "https://localhost:8080/",
          "height": 255
        },
        "outputId": "63fc9f1d-e801-417b-b04f-22b7803cef07"
      },
      "source": [
        "# Reading file\n",
        "path_to_file = \"/content/drive/My Drive/backPain.csv\" \n",
        "\n",
        "import csv\n",
        "\n",
        "data = []\n",
        "with open(path_to_file, mode='r') as csv_file:\n",
        "    csv_reader = csv.reader(csv_file, delimiter=',') # csv.DictReader(csv_file)\n",
        "    for row in csv_reader:\n",
        "      data.append(row)\n",
        "# Split title and data\n",
        "trainingData = data[1:] \n",
        "fakeTitle = data[:1]\n",
        "title = fakeTitle[0]\n",
        "for i in range(0, 14):\n",
        "  print(i, title[i])"
      ],
      "execution_count": 101,
      "outputs": [
        {
          "output_type": "stream",
          "text": [
            "0 Col1\n",
            "1 Col2\n",
            "2 Col3\n",
            "3 Col4\n",
            "4 Col5\n",
            "5 Col6\n",
            "6 Col7\n",
            "7 Col8\n",
            "8 Col9\n",
            "9 Col10\n",
            "10 Col11\n",
            "11 Col12\n",
            "12 Class_att\n",
            "13 \n"
          ],
          "name": "stdout"
        }
      ]
    },
    {
      "cell_type": "code",
      "metadata": {
        "id": "3GyOxFfvLYT0",
        "colab_type": "code",
        "colab": {
          "base_uri": "https://localhost:8080/",
          "height": 34
        },
        "outputId": "63d21d30-de97-494c-ad93-ed9469fa5b77"
      },
      "source": [
        "# Dimension check\n",
        "import numpy as np\n",
        "x = np.array(trainingData)\n",
        "print(np.shape(x))"
      ],
      "execution_count": 102,
      "outputs": [
        {
          "output_type": "stream",
          "text": [
            "(310, 14)\n"
          ],
          "name": "stdout"
        }
      ]
    },
    {
      "cell_type": "markdown",
      "metadata": {
        "id": "Yr3nyp8wMNWR",
        "colab_type": "text"
      },
      "source": [
        "## Re-integrating the data"
      ]
    },
    {
      "cell_type": "code",
      "metadata": {
        "id": "C35ZZkEPMP0_",
        "colab_type": "code",
        "colab": {}
      },
      "source": [
        "for i in range (0, 310):\n",
        "  if x[i][12] == 'Abnormal':\n",
        "    x[i][12] = 1\n",
        "  elif x[i][12] == 'Normal':\n",
        "    x[i][12] = 0"
      ],
      "execution_count": 103,
      "outputs": []
    },
    {
      "cell_type": "markdown",
      "metadata": {
        "id": "S21KF6S_LmCI",
        "colab_type": "text"
      },
      "source": [
        "## Shuffling & Splitting the data set "
      ]
    },
    {
      "cell_type": "code",
      "metadata": {
        "id": "aiOSVGSJLoDa",
        "colab_type": "code",
        "colab": {
          "base_uri": "https://localhost:8080/",
          "height": 34
        },
        "outputId": "d49cd6f2-9d3a-438e-b402-ba7f6947e25b"
      },
      "source": [
        "np.random.shuffle(x)\n",
        "trainingSet = x[:270]\n",
        "testingSet = x[270:]\n",
        "print(np.shape(trainingSet))"
      ],
      "execution_count": 104,
      "outputs": [
        {
          "output_type": "stream",
          "text": [
            "(270, 14)\n"
          ],
          "name": "stdout"
        }
      ]
    },
    {
      "cell_type": "code",
      "metadata": {
        "id": "bVAUa5YSLuMV",
        "colab_type": "code",
        "colab": {}
      },
      "source": [
        "# A bunch of imports \n",
        "import torch\n",
        "import torch.nn as nn\n",
        "import torch.nn.functional as F\n",
        "import matplotlib.pyplot as plt\n",
        "import torch.optim as optim\n",
        "from tqdm import tqdm_notebook"
      ],
      "execution_count": 105,
      "outputs": []
    },
    {
      "cell_type": "code",
      "metadata": {
        "id": "Fp7QeN_lLv2X",
        "colab_type": "code",
        "colab": {
          "base_uri": "https://localhost:8080/",
          "height": 51
        },
        "outputId": "0ea8444c-d0f0-455d-9bab-69294715d3dc"
      },
      "source": [
        "trainingInput = trainingSet[:,:12]\n",
        "trainingOutput = trainingSet[:,12]\n",
        "trainingInput = trainingInput.astype(np.float)\n",
        "trainingOutput = trainingOutput.astype(np.float)\n",
        "trainingOutput = torch.from_numpy(trainingOutput).float().reshape(-1,1)\n",
        "print(np.shape(trainingOutput))\n",
        "print(np.shape(trainingInput))"
      ],
      "execution_count": 106,
      "outputs": [
        {
          "output_type": "stream",
          "text": [
            "torch.Size([270, 1])\n",
            "(270, 12)\n"
          ],
          "name": "stdout"
        }
      ]
    },
    {
      "cell_type": "markdown",
      "metadata": {
        "id": "brLtgocHLeDy",
        "colab_type": "text"
      },
      "source": [
        "## Actual Experiment"
      ]
    },
    {
      "cell_type": "code",
      "metadata": {
        "id": "dZCIJxeYLZJ9",
        "colab_type": "code",
        "colab": {
          "base_uri": "https://localhost:8080/",
          "height": 34
        },
        "outputId": "8677eba7-2aea-45cb-b141-aeaa93f50541"
      },
      "source": [
        "trainingFeatureNames = title[:-2] # TODO: Are we ending on index 12?\n",
        "inData = {}\n",
        "for i, feature in enumerate(trainingFeatureNames):\n",
        "  inData[i] = torch.from_numpy(trainingInput[:,i]).float().reshape(-1,1) # Can do by feature name or index\n",
        "for i in inData:\n",
        "  inData[i] = inData[i] / torch.max(inData[i])\n",
        "print(np.shape(inData[11]))"
      ],
      "execution_count": 107,
      "outputs": [
        {
          "output_type": "stream",
          "text": [
            "torch.Size([270, 1])\n"
          ],
          "name": "stdout"
        }
      ]
    },
    {
      "cell_type": "code",
      "metadata": {
        "id": "SRJ0-_wmTeL_",
        "colab_type": "code",
        "colab": {}
      },
      "source": [
        "# Create Net class\n",
        "class Net(nn.Module):\n",
        "  def __init__(self, layerWidth=300):\n",
        "    super(Net, self).__init__();\n",
        "    self.fc1 = nn.Linear(1, layerWidth)\n",
        "    nn.init.kaiming_normal_(self.fc1.weight)\n",
        "    self.fc2 = nn.Linear(layerWidth, layerWidth)\n",
        "    nn.init.kaiming_normal_(self.fc2.weight)\n",
        "    self.fc3 = nn.Linear(layerWidth, layerWidth)\n",
        "    nn.init.kaiming_normal_(self.fc3.weight)\n",
        "    self.fc4 = nn.Linear(layerWidth,1)\n",
        "    nn.init.kaiming_normal_(self.fc4.weight)\n",
        "  def forward (self, x):\n",
        "    x = F.relu(self.fc1(x))\n",
        "    x = F.relu(self.fc2(x))\n",
        "    x = F.relu(self.fc3(x))\n",
        "    x = self.fc4(x)\n",
        "    return x"
      ],
      "execution_count": 108,
      "outputs": []
    },
    {
      "cell_type": "code",
      "metadata": {
        "id": "BwH6_6r-TiIt",
        "colab_type": "code",
        "colab": {}
      },
      "source": [
        "nets = []\n",
        "for i in range(11):\n",
        "  nets.append( Net() )"
      ],
      "execution_count": 109,
      "outputs": []
    },
    {
      "cell_type": "code",
      "metadata": {
        "id": "WxReGwsQToK7",
        "colab_type": "code",
        "colab": {
          "base_uri": "https://localhost:8080/",
          "height": 134,
          "referenced_widgets": [
            "a1b0c1ed241743b79d824d8f8d4a7853",
            "d1d952c6fa4744209976da5c971f03de",
            "7a0aa174f2464f3b8c2f3b6ec11028bf",
            "76ff6bde546748a198f6af88c2442e9c",
            "cfd8bf9f6d38450a836670ba2d3f045c",
            "680d4ab6efcd4b1c9c43fa084bb1e698",
            "175816ba717545d5a62e1bf941911d32",
            "6c3516ed760349d9998dd52b5044fe2b"
          ]
        },
        "outputId": "3eccf255-4320-4432-9453-52a8f9659916"
      },
      "source": [
        "import torch.optim as optim\n",
        "from tqdm import tqdm_notebook\n",
        "\n",
        "optimizers = [optim.Adam(nets[i].parameters()) for i in range(len(nets))]\n",
        "\n",
        "epochs = tqdm_notebook(range(2400))\n",
        "criterion = nn.MSELoss()\n",
        "for epoch in epochs:\n",
        "  for optimizer in optimizers:\n",
        "    optimizer.zero_grad()\n",
        "\n",
        "  outputs = [nets[i](inData[i]) for i in range(len(nets))]\n",
        "\n",
        "  totalOut = sum(outputs) # TODO: Check that this works.\n",
        "  loss = criterion(totalOut,trainingOutput)\n",
        "  loss.backward()\n",
        "\n",
        "  for optimizer in optimizers:\n",
        "    optimizer.step()\n",
        "\n",
        "  epochs.set_description(str(loss.data.item()))\n",
        "\n",
        "print(loss.data.item())"
      ],
      "execution_count": 110,
      "outputs": [
        {
          "output_type": "stream",
          "text": [
            "/usr/local/lib/python3.6/dist-packages/ipykernel_launcher.py:6: TqdmDeprecationWarning: This function will be removed in tqdm==5.0.0\n",
            "Please use `tqdm.notebook.tqdm` instead of `tqdm.tqdm_notebook`\n",
            "  \n"
          ],
          "name": "stderr"
        },
        {
          "output_type": "display_data",
          "data": {
            "application/vnd.jupyter.widget-view+json": {
              "model_id": "a1b0c1ed241743b79d824d8f8d4a7853",
              "version_minor": 0,
              "version_major": 2
            },
            "text/plain": [
              "HBox(children=(FloatProgress(value=0.0, max=2400.0), HTML(value='')))"
            ]
          },
          "metadata": {
            "tags": []
          }
        },
        {
          "output_type": "stream",
          "text": [
            "\n",
            "0.05358802154660225\n"
          ],
          "name": "stdout"
        }
      ]
    },
    {
      "cell_type": "code",
      "metadata": {
        "id": "oo-n9BovVAt_",
        "colab_type": "code",
        "colab": {
          "base_uri": "https://localhost:8080/",
          "height": 1000
        },
        "outputId": "8c057a64-4e44-4238-e723-2d4bf7daef2e"
      },
      "source": [
        "def plotFeatureFunction(featureIndex):\n",
        "  newOutput = outputs[featureIndex].detach().numpy()\n",
        "  newOutput = newOutput - (np.max(newOutput) + np.min(newOutput))/2\n",
        "  plt.scatter(inData[featureIndex], newOutput)\n",
        "  plt.xlabel(trainingFeatureNames[featureIndex])\n",
        "  plt.ylabel(\"Lower Back Pain risk\")\n",
        "  plt.show()\n",
        "\n",
        "for i in range(len(nets)):\n",
        "  plotFeatureFunction(i)"
      ],
      "execution_count": 111,
      "outputs": [
        {
          "output_type": "display_data",
          "data": {
            "image/png": "[encoded data removed]",
            "text/plain": [
              "<Figure size 432x288 with 1 Axes>"
            ]
          },
          "metadata": {
            "tags": [],
            "needs_background": "light"
          }
        },
        {
          "output_type": "display_data",
          "data": {
            "image/png": "[encoded data removed]",
            "text/plain": [
              "<Figure size 432x288 with 1 Axes>"
            ]
          },
          "metadata": {
            "tags": [],
            "needs_background": "light"
          }
        },
        {
          "output_type": "display_data",
          "data": {
            "image/png": "[encoded data removed]",
            "text/plain": [
              "<Figure size 432x288 with 1 Axes>"
            ]
          },
          "metadata": {
            "tags": [],
            "needs_background": "light"
          }
        },
        {
          "output_type": "display_data",
          "data": {
            "image/png": "[encoded data removed]",
            "text/plain": [
              "<Figure size 432x288 with 1 Axes>"
            ]
          },
          "metadata": {
            "tags": [],
            "needs_background": "light"
          }
        },
        {
          "output_type": "display_data",
          "data": {
            "image/png": "[encoded data removed]",
            "text/plain": [
              "<Figure size 432x288 with 1 Axes>"
            ]
          },
          "metadata": {
            "tags": [],
            "needs_background": "light"
          }
        },
        {
          "output_type": "display_data",
          "data": {
            "image/png": "[encoded data removed]",
            "text/plain": [
              "<Figure size 432x288 with 1 Axes>"
            ]
          },
          "metadata": {
            "tags": [],
            "needs_background": "light"
          }
        },
        {
          "output_type": "display_data",
          "data": {
            "image/png": "[encoded data removed]",
            "text/plain": [
              "<Figure size 432x288 with 1 Axes>"
            ]
          },
          "metadata": {
            "tags": [],
            "needs_background": "light"
          }
        },
        {
          "output_type": "display_data",
          "data": {
            "image/png": "[encoded data removed]",
            "text/plain": [
              "<Figure size 432x288 with 1 Axes>"
            ]
          },
          "metadata": {
            "tags": [],
            "needs_background": "light"
          }
        },
        {
          "output_type": "display_data",
          "data": {
            "image/png": "[encoded data removed]",
            "text/plain": [
              "<Figure size 432x288 with 1 Axes>"
            ]
          },
          "metadata": {
            "tags": [],
            "needs_background": "light"
          }
        },
        {
          "output_type": "display_data",
          "data": {
            "image/png": "[encoded data removed]",
            "text/plain": [
              "<Figure size 432x288 with 1 Axes>"
            ]
          },
          "metadata": {
            "tags": [],
            "needs_background": "light"
          }
        },
        {
          "output_type": "display_data",
          "data": {
            "image/png": "[encoded data removed]",
            "text/plain": [
              "<Figure size 432x288 with 1 Axes>"
            ]
          },
          "metadata": {
            "tags": [],
            "needs_background": "light"
          }
        }
      ]
    },
    {
      "cell_type": "markdown",
      "metadata": {
        "id": "ODkXaYL4zf-k",
        "colab_type": "text"
      },
      "source": [
        "## Accuracy"
      ]
    },
    {
      "cell_type": "code",
      "metadata": {
        "id": "Fu0vCZn9zhlL",
        "colab_type": "code",
        "colab": {
          "base_uri": "https://localhost:8080/",
          "height": 51
        },
        "outputId": "4a28c084-92aa-4ef0-9619-146d7ac65429"
      },
      "source": [
        "testingInput = testingSet[:,:12]\n",
        "testingOutput = testingSet[:,12]\n",
        "testingInput = testingInput.astype(np.float)\n",
        "testingOutput = testingOutput.astype(np.float)\n",
        "trainingFeatureNames = title[:-2] # TODO: Are we ending on index 12?\n",
        "testData = {}\n",
        "for i, feature in enumerate(trainingFeatureNames):\n",
        "  testData[i] = torch.from_numpy(testingInput[:,i]).float().reshape(-1,1) # Can do by feature name or index\n",
        "\n",
        "print(testingOutput)"
      ],
      "execution_count": 112,
      "outputs": [
        {
          "output_type": "stream",
          "text": [
            "[1. 0. 1. 0. 1. 1. 1. 0. 0. 1. 0. 1. 0. 0. 0. 1. 1. 1. 0. 1. 0. 1. 1. 1.\n",
            " 1. 1. 1. 0. 1. 1. 0. 1. 0. 1. 0. 0. 1. 1. 1. 1.]\n"
          ],
          "name": "stdout"
        }
      ]
    },
    {
      "cell_type": "markdown",
      "metadata": {
        "id": "AKsON8_KCWAA",
        "colab_type": "text"
      },
      "source": [
        "#### Training Set Accuracy"
      ]
    },
    {
      "cell_type": "code",
      "metadata": {
        "id": "mnMyOfvn2e1i",
        "colab_type": "code",
        "colab": {
          "base_uri": "https://localhost:8080/",
          "height": 34
        },
        "outputId": "d2710c63-bf63-444c-cb5e-a42afd94175c"
      },
      "source": [
        "totalOutNp = totalOut.detach().numpy()\n",
        "totalOutNp = totalOutNp - 0.5\n",
        "finalOut = np.ceil(totalOutNp).astype(np.int)\n",
        "trainingOutputNp = trainingOutput.detach().numpy()\n",
        "totalCorrect = 0\n",
        "totalPoints =  trainingOutputNp.size\n",
        "for i in range(totalPoints):\n",
        "  if(finalOut[i] == trainingOutputNp[i]):\n",
        "    totalCorrect += 1\n",
        "print(totalCorrect/totalPoints)"
      ],
      "execution_count": 113,
      "outputs": [
        {
          "output_type": "stream",
          "text": [
            "0.9555555555555556\n"
          ],
          "name": "stdout"
        }
      ]
    },
    {
      "cell_type": "markdown",
      "metadata": {
        "id": "FuLNOkqtCaU4",
        "colab_type": "text"
      },
      "source": [
        "#### Testing Set Accuracy"
      ]
    },
    {
      "cell_type": "code",
      "metadata": {
        "id": "ERB8wYc22r_E",
        "colab_type": "code",
        "colab": {
          "base_uri": "https://localhost:8080/",
          "height": 697
        },
        "outputId": "a6ab77cd-9a65-46d9-ffc6-56f7448095a8"
      },
      "source": [
        "prediction = [nets[i](testData[i]) for i in range(len(nets))]\n",
        "totalOut = sum(prediction)\n",
        "print(totalOut)"
      ],
      "execution_count": 118,
      "outputs": [
        {
          "output_type": "stream",
          "text": [
            "tensor([[  60.1762],\n",
            "        [ 227.5991],\n",
            "        [  67.6331],\n",
            "        [ 155.0836],\n",
            "        [ 118.0744],\n",
            "        [ -67.8335],\n",
            "        [ 224.9109],\n",
            "        [ 115.7049],\n",
            "        [ 214.7112],\n",
            "        [ -14.9501],\n",
            "        [  89.3376],\n",
            "        [  -2.1466],\n",
            "        [ 249.2455],\n",
            "        [ 184.2516],\n",
            "        [ 180.5986],\n",
            "        [-110.5930],\n",
            "        [  24.5592],\n",
            "        [ 198.5948],\n",
            "        [ 272.5620],\n",
            "        [  23.9526],\n",
            "        [ 140.7415],\n",
            "        [  78.4564],\n",
            "        [  50.9426],\n",
            "        [ 171.0990],\n",
            "        [-118.2785],\n",
            "        [ 291.6909],\n",
            "        [-172.7802],\n",
            "        [ 198.7939],\n",
            "        [ 229.1808],\n",
            "        [  31.8495],\n",
            "        [ 185.0740],\n",
            "        [ 217.0579],\n",
            "        [ 197.5092],\n",
            "        [ -62.8344],\n",
            "        [ 275.2897],\n",
            "        [  82.0531],\n",
            "        [-874.0137],\n",
            "        [ -10.3716],\n",
            "        [ 328.6180],\n",
            "        [  71.8913]], grad_fn=<AddBackward0>)\n"
          ],
          "name": "stdout"
        }
      ]
    },
    {
      "cell_type": "code",
      "metadata": {
        "id": "7TKyJm1RExPb",
        "colab_type": "code",
        "colab": {
          "base_uri": "https://localhost:8080/",
          "height": 34
        },
        "outputId": "f749315d-a623-4603-ea51-9a7d3df82abb"
      },
      "source": [
        "totalOutNp = totalOut.detach().numpy()\n",
        "totalOutNp = totalOutNp - 0.5\n",
        "finalOut = np.ceil(totalOutNp).astype(np.int)\n",
        "# testingOutputNp = testingOutput.detach().numpy()\n",
        "totalCorrect = 0\n",
        "totalPoints = totalOutNp.size\n",
        "for i in range(totalPoints):\n",
        "  if(finalOut[i] == testingOutput[i]):\n",
        "    totalCorrect += 1\n",
        "print(totalCorrect/totalPoints)"
      ],
      "execution_count": 119,
      "outputs": [
        {
          "output_type": "stream",
          "text": [
            "0.0\n"
          ],
          "name": "stdout"
        }
      ]
    }
  ]
}