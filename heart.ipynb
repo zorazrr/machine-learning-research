{
  "nbformat": 4,
  "nbformat_minor": 0,
  "metadata": {
    "colab": {
      "name": "anotherHeart.ipynb",
      "provenance": [],
      "authorship_tag": "ABX9TyMcvdJrJDQR49fV1vsliuVV"
    },
    "kernelspec": {
      "name": "python3",
      "display_name": "Python 3"
    },
    "widgets": {
      "application/vnd.jupyter.widget-state+json": {
        "2b75ad78dd1a4611a29d12c6d6eec762": {
          "model_module": "@jupyter-widgets/controls",
          "model_name": "HBoxModel",
          "state": {
            "_view_name": "HBoxView",
            "_dom_classes": [],
            "_model_name": "HBoxModel",
            "_view_module": "@jupyter-widgets/controls",
            "_model_module_version": "1.5.0",
            "_view_count": null,
            "_view_module_version": "1.5.0",
            "box_style": "",
            "layout": "IPY_MODEL_a57284b7bd1c4b6cabba5800075c4ca1",
            "_model_module": "@jupyter-widgets/controls",
            "children": [
              "IPY_MODEL_5b711bd3cc33447ab136af4410f03d5a",
              "IPY_MODEL_96109bfc6bfc427aa3ade3680d824f14"
            ]
          }
        },
        "a57284b7bd1c4b6cabba5800075c4ca1": {
          "model_module": "@jupyter-widgets/base",
          "model_name": "LayoutModel",
          "state": {
            "_view_name": "LayoutView",
            "grid_template_rows": null,
            "right": null,
            "justify_content": null,
            "_view_module": "@jupyter-widgets/base",
            "overflow": null,
            "_model_module_version": "1.2.0",
            "_view_count": null,
            "flex_flow": null,
            "width": null,
            "min_width": null,
            "border": null,
            "align_items": null,
            "bottom": null,
            "_model_module": "@jupyter-widgets/base",
            "top": null,
            "grid_column": null,
            "overflow_y": null,
            "overflow_x": null,
            "grid_auto_flow": null,
            "grid_area": null,
            "grid_template_columns": null,
            "flex": null,
            "_model_name": "LayoutModel",
            "justify_items": null,
            "grid_row": null,
            "max_height": null,
            "align_content": null,
            "visibility": null,
            "align_self": null,
            "height": null,
            "min_height": null,
            "padding": null,
            "grid_auto_rows": null,
            "grid_gap": null,
            "max_width": null,
            "order": null,
            "_view_module_version": "1.2.0",
            "grid_template_areas": null,
            "object_position": null,
            "object_fit": null,
            "grid_auto_columns": null,
            "margin": null,
            "display": null,
            "left": null
          }
        },
        "5b711bd3cc33447ab136af4410f03d5a": {
          "model_module": "@jupyter-widgets/controls",
          "model_name": "IntProgressModel",
          "state": {
            "_view_name": "ProgressView",
            "style": "IPY_MODEL_dfda15df2f4a416ab5e53410ab2df78e",
            "_dom_classes": [],
            "description": "0.085206538438797: 100%",
            "_model_name": "IntProgressModel",
            "bar_style": "success",
            "max": 2000,
            "_view_module": "@jupyter-widgets/controls",
            "_model_module_version": "1.5.0",
            "value": 2000,
            "_view_count": null,
            "_view_module_version": "1.5.0",
            "orientation": "horizontal",
            "min": 0,
            "description_tooltip": null,
            "_model_module": "@jupyter-widgets/controls",
            "layout": "IPY_MODEL_b86a7aa42c6a469d9fd79033ec940d40"
          }
        },
        "96109bfc6bfc427aa3ade3680d824f14": {
          "model_module": "@jupyter-widgets/controls",
          "model_name": "HTMLModel",
          "state": {
            "_view_name": "HTMLView",
            "style": "IPY_MODEL_e0a390329d974edc8082ddd9c7ef9817",
            "_dom_classes": [],
            "description": "",
            "_model_name": "HTMLModel",
            "placeholder": "​",
            "_view_module": "@jupyter-widgets/controls",
            "_model_module_version": "1.5.0",
            "value": " 2000/2000 [04:35&lt;00:00,  7.25it/s]",
            "_view_count": null,
            "_view_module_version": "1.5.0",
            "description_tooltip": null,
            "_model_module": "@jupyter-widgets/controls",
            "layout": "IPY_MODEL_a7e248adfd794661989bdc4c7c6f509c"
          }
        },
        "dfda15df2f4a416ab5e53410ab2df78e": {
          "model_module": "@jupyter-widgets/controls",
          "model_name": "ProgressStyleModel",
          "state": {
            "_view_name": "StyleView",
            "_model_name": "ProgressStyleModel",
            "description_width": "initial",
            "_view_module": "@jupyter-widgets/base",
            "_model_module_version": "1.5.0",
            "_view_count": null,
            "_view_module_version": "1.2.0",
            "bar_color": null,
            "_model_module": "@jupyter-widgets/controls"
          }
        },
        "b86a7aa42c6a469d9fd79033ec940d40": {
          "model_module": "@jupyter-widgets/base",
          "model_name": "LayoutModel",
          "state": {
            "_view_name": "LayoutView",
            "grid_template_rows": null,
            "right": null,
            "justify_content": null,
            "_view_module": "@jupyter-widgets/base",
            "overflow": null,
            "_model_module_version": "1.2.0",
            "_view_count": null,
            "flex_flow": null,
            "width": null,
            "min_width": null,
            "border": null,
            "align_items": null,
            "bottom": null,
            "_model_module": "@jupyter-widgets/base",
            "top": null,
            "grid_column": null,
            "overflow_y": null,
            "overflow_x": null,
            "grid_auto_flow": null,
            "grid_area": null,
            "grid_template_columns": null,
            "flex": null,
            "_model_name": "LayoutModel",
            "justify_items": null,
            "grid_row": null,
            "max_height": null,
            "align_content": null,
            "visibility": null,
            "align_self": null,
            "height": null,
            "min_height": null,
            "padding": null,
            "grid_auto_rows": null,
            "grid_gap": null,
            "max_width": null,
            "order": null,
            "_view_module_version": "1.2.0",
            "grid_template_areas": null,
            "object_position": null,
            "object_fit": null,
            "grid_auto_columns": null,
            "margin": null,
            "display": null,
            "left": null
          }
        },
        "e0a390329d974edc8082ddd9c7ef9817": {
          "model_module": "@jupyter-widgets/controls",
          "model_name": "DescriptionStyleModel",
          "state": {
            "_view_name": "StyleView",
            "_model_name": "DescriptionStyleModel",
            "description_width": "",
            "_view_module": "@jupyter-widgets/base",
            "_model_module_version": "1.5.0",
            "_view_count": null,
            "_view_module_version": "1.2.0",
            "_model_module": "@jupyter-widgets/controls"
          }
        },
        "a7e248adfd794661989bdc4c7c6f509c": {
          "model_module": "@jupyter-widgets/base",
          "model_name": "LayoutModel",
          "state": {
            "_view_name": "LayoutView",
            "grid_template_rows": null,
            "right": null,
            "justify_content": null,
            "_view_module": "@jupyter-widgets/base",
            "overflow": null,
            "_model_module_version": "1.2.0",
            "_view_count": null,
            "flex_flow": null,
            "width": null,
            "min_width": null,
            "border": null,
            "align_items": null,
            "bottom": null,
            "_model_module": "@jupyter-widgets/base",
            "top": null,
            "grid_column": null,
            "overflow_y": null,
            "overflow_x": null,
            "grid_auto_flow": null,
            "grid_area": null,
            "grid_template_columns": null,
            "flex": null,
            "_model_name": "LayoutModel",
            "justify_items": null,
            "grid_row": null,
            "max_height": null,
            "align_content": null,
            "visibility": null,
            "align_self": null,
            "height": null,
            "min_height": null,
            "padding": null,
            "grid_auto_rows": null,
            "grid_gap": null,
            "max_width": null,
            "order": null,
            "_view_module_version": "1.2.0",
            "grid_template_areas": null,
            "object_position": null,
            "object_fit": null,
            "grid_auto_columns": null,
            "margin": null,
            "display": null,
            "left": null
          }
        }
      }
    }
  },
  "cells": [
    {
      "cell_type": "markdown",
      "metadata": {
        "id": "AQcDTMujRI3h",
        "colab_type": "text"
      },
      "source": [
        "# This is the REAL HEART\n",
        "## with the correct data set and working sigmoid"
      ]
    },
    {
      "cell_type": "code",
      "metadata": {
        "id": "W-9p_vEpe8bR",
        "colab_type": "code",
        "colab": {
          "base_uri": "https://localhost:8080/",
          "height": 122
        },
        "outputId": "1e369ff6-227a-44ef-f480-f7794fff0d5d"
      },
      "source": [
        "from google.colab import drive\n",
        "drive.mount('/content/drive')"
      ],
      "execution_count": null,
      "outputs": [
        {
          "output_type": "stream",
          "text": [
            "Go to this URL in a browser: https://accounts.google.com/o/oauth2/auth?client_id=947318989803-6bn6qk8qdgf4n4g3pfee6491hc0brc4i.apps.googleusercontent.com&redirect_uri=urn%3aietf%3awg%3aoauth%3a2.0%3aoob&response_type=code&scope=email%20https%3a%2f%2fwww.googleapis.com%2fauth%2fdocs.test%20https%3a%2f%2fwww.googleapis.com%2fauth%2fdrive%20https%3a%2f%2fwww.googleapis.com%2fauth%2fdrive.photos.readonly%20https%3a%2f%2fwww.googleapis.com%2fauth%2fpeopleapi.readonly\n",
            "\n",
            "Enter your authorization code:\n",
            "··········\n",
            "Mounted at /content/drive\n"
          ],
          "name": "stdout"
        }
      ]
    },
    {
      "cell_type": "code",
      "metadata": {
        "id": "aCJQqrXMgADN",
        "colab_type": "code",
        "colab": {
          "base_uri": "https://localhost:8080/",
          "height": 34
        },
        "outputId": "ce86b2c6-e999-41a6-be0e-d27481b2a3a8"
      },
      "source": [
        "# Reading file\n",
        "path_to_file = \"/content/drive/My Drive/anotherHeart.csv\" \n",
        "\n",
        "import csv\n",
        "\n",
        "data = []\n",
        "with open(path_to_file, mode='r') as csv_file:\n",
        "    csv_reader = csv.reader(csv_file, delimiter=',') # csv.DictReader(csv_file)\n",
        "    for row in csv_reader:\n",
        "      data.append(row)\n",
        "\n",
        "# Split title and data\n",
        "trainingData = data[1:]\n",
        "fakeTitle = data[:1]\n",
        "title = fakeTitle[0]\n",
        "print(title)"
      ],
      "execution_count": null,
      "outputs": [
        {
          "output_type": "stream",
          "text": [
            "['\\ufeffage', 'sex', 'cp', 'trestbps', 'chol', 'fbs', 'restecg', 'thalach', 'exang', 'oldpeak', 'slope', 'ca', 'thal', 'target']\n"
          ],
          "name": "stdout"
        }
      ]
    },
    {
      "cell_type": "code",
      "metadata": {
        "id": "GZhj7uJGgKr1",
        "colab_type": "code",
        "colab": {
          "base_uri": "https://localhost:8080/",
          "height": 34
        },
        "outputId": "21f2db70-00f4-43b1-8226-c16331d3968e"
      },
      "source": [
        "# Randomly shuffle the data\n",
        "import numpy as np\n",
        "x = np.array(trainingData)\n",
        "np.random.shuffle(x)\n",
        "print(np.shape(x))"
      ],
      "execution_count": null,
      "outputs": [
        {
          "output_type": "stream",
          "text": [
            "(303, 14)\n"
          ],
          "name": "stdout"
        }
      ]
    },
    {
      "cell_type": "code",
      "metadata": {
        "id": "BoMxbTvBgOGr",
        "colab_type": "code",
        "colab": {}
      },
      "source": [
        "# A bunch of imports \n",
        "import torch\n",
        "import torch.nn as nn\n",
        "import torch.nn.functional as F\n",
        "import matplotlib.pyplot as plt\n",
        "import torch.optim as optim\n",
        "from tqdm import tqdm_notebook"
      ],
      "execution_count": null,
      "outputs": []
    },
    {
      "cell_type": "code",
      "metadata": {
        "id": "0e5aPSa2g3ii",
        "colab_type": "code",
        "colab": {
          "base_uri": "https://localhost:8080/",
          "height": 51
        },
        "outputId": "ba41e9af-7329-4dc2-8a50-1eb1dc332025"
      },
      "source": [
        "# Split training set and testing set\n",
        "# Size: 1025, trainingSet: 80%, testingSet: 20%\n",
        "trainingSet = x[:250]\n",
        "testingSet = x[250:]\n",
        "print(np.shape(trainingSet))\n",
        "print(np.shape(testingSet))"
      ],
      "execution_count": null,
      "outputs": [
        {
          "output_type": "stream",
          "text": [
            "(250, 14)\n",
            "(53, 14)\n"
          ],
          "name": "stdout"
        }
      ]
    },
    {
      "cell_type": "code",
      "metadata": {
        "id": "qLa4Plf6hBSV",
        "colab_type": "code",
        "colab": {
          "base_uri": "https://localhost:8080/",
          "height": 51
        },
        "outputId": "6914bd84-a752-4833-eacf-f8cac185f899"
      },
      "source": [
        "# Split input and output for training set\n",
        "trainingInput = trainingSet[:,:13]\n",
        "trainingOutput = trainingSet[:,13]\n",
        "trainingInput = trainingInput.astype(np.float)\n",
        "trainingOutput = trainingOutput.astype(np.float)\n",
        "trainingOutput = torch.from_numpy(trainingOutput).float().reshape(-1,1)\n",
        "print(np.shape(trainingOutput))\n",
        "print(np.shape(trainingInput))"
      ],
      "execution_count": null,
      "outputs": [
        {
          "output_type": "stream",
          "text": [
            "torch.Size([250, 1])\n",
            "(250, 13)\n"
          ],
          "name": "stdout"
        }
      ]
    },
    {
      "cell_type": "code",
      "metadata": {
        "id": "t05Z-bK0hQZO",
        "colab_type": "code",
        "colab": {
          "base_uri": "https://localhost:8080/",
          "height": 34
        },
        "outputId": "151292b1-4d7c-49ed-dd59-093cbf218e29"
      },
      "source": [
        "ageIn = torch.from_numpy(trainingInput[:,0]).float().reshape(-1,1)\n",
        "ageIn = ageIn/100\n",
        "sexIn = torch.from_numpy(trainingInput[:,1]).float().reshape(-1,1)\n",
        "cpIn = torch.from_numpy(trainingInput[:,2]).float().reshape(-1,1)\n",
        "bpsIn = torch.from_numpy(trainingInput[:,3]).float().reshape(-1,1)\n",
        "bpsIn = bpsIn/200\n",
        "cholIn = torch.from_numpy(trainingInput[:,4]).float().reshape(-1,1)\n",
        "cholIn = cholIn/500\n",
        "fbsIn = torch.from_numpy(trainingInput[:,5]).float().reshape(-1,1)\n",
        "ecgIn = torch.from_numpy(trainingInput[:,6]).float().reshape(-1,1)\n",
        "maxIn = torch.from_numpy(trainingInput[:,7]).float().reshape(-1,1)\n",
        "maxIn = maxIn/200\n",
        "exangIn = torch.from_numpy(trainingInput[:,8]).float().reshape(-1,1)\n",
        "oldpeakIn = torch.from_numpy(trainingInput[:,9]).float().reshape(-1,1)\n",
        "slopeIn = torch.from_numpy(trainingInput[:,10]).float().reshape(-1,1)\n",
        "caIn = torch.from_numpy(trainingInput[:,11]).float().reshape(-1,1)\n",
        "thalIn = torch.from_numpy(trainingInput[:,12]).float().reshape(-1,1)\n",
        "print(np.shape(ageIn))"
      ],
      "execution_count": null,
      "outputs": [
        {
          "output_type": "stream",
          "text": [
            "torch.Size([250, 1])\n"
          ],
          "name": "stdout"
        }
      ]
    },
    {
      "cell_type": "code",
      "metadata": {
        "id": "8bOBHK-_hYAU",
        "colab_type": "code",
        "colab": {}
      },
      "source": [
        "# Create Net class\n",
        "class Net(nn.Module):\n",
        "  def __init__(self):\n",
        "    super(Net, self).__init__();\n",
        "    self.fc1 = nn.Linear(1, 300)\n",
        "    nn.init.kaiming_normal_(self.fc1.weight)\n",
        "    self.fc2 = nn.Linear(300, 300)\n",
        "    nn.init.kaiming_normal_(self.fc2.weight)\n",
        "    self.fc3 = nn.Linear(300, 300)\n",
        "    nn.init.kaiming_normal_(self.fc3.weight)\n",
        "    self.fc4 = nn.Linear(300,1)\n",
        "    nn.init.kaiming_normal_(self.fc4.weight)\n",
        "  def forward (self, x):\n",
        "    x = F.relu(self.fc1(x))\n",
        "    x = F.relu(self.fc2(x))\n",
        "    x = F.relu(self.fc3(x))\n",
        "    x = self.fc4(x)\n",
        "    return x"
      ],
      "execution_count": null,
      "outputs": []
    },
    {
      "cell_type": "code",
      "metadata": {
        "id": "suFbOXsPhYvs",
        "colab_type": "code",
        "colab": {}
      },
      "source": [
        "net0 = Net()\n",
        "net1 = Net()\n",
        "net2 = Net()\n",
        "net3 = Net()\n",
        "net4 = Net()\n",
        "net5 = Net()\n",
        "net6 = Net()\n",
        "net7 = Net()\n",
        "net8 = Net()\n",
        "net9 = Net()\n",
        "net10 = Net()\n",
        "net11 = Net()\n",
        "net12 = Net()"
      ],
      "execution_count": null,
      "outputs": []
    },
    {
      "cell_type": "code",
      "metadata": {
        "id": "O-xjkrD4havW",
        "colab_type": "code",
        "colab": {
          "base_uri": "https://localhost:8080/",
          "height": 117,
          "referenced_widgets": [
            "2b75ad78dd1a4611a29d12c6d6eec762",
            "a57284b7bd1c4b6cabba5800075c4ca1",
            "5b711bd3cc33447ab136af4410f03d5a",
            "96109bfc6bfc427aa3ade3680d824f14",
            "dfda15df2f4a416ab5e53410ab2df78e",
            "b86a7aa42c6a469d9fd79033ec940d40",
            "e0a390329d974edc8082ddd9c7ef9817",
            "a7e248adfd794661989bdc4c7c6f509c"
          ]
        },
        "outputId": "2e070ede-28ad-45d6-f662-ca220d9c20f5"
      },
      "source": [
        "import torch.optim as optim\n",
        "from tqdm import tqdm_notebook\n",
        "\n",
        "optimizer0 = optim.Adam(net0.parameters())\n",
        "optimizer1 = optim.Adam(net1.parameters())\n",
        "optimizer2 = optim.Adam(net2.parameters())\n",
        "optimizer3 = optim.Adam(net3.parameters())\n",
        "optimizer4 = optim.Adam(net4.parameters())\n",
        "optimizer5 = optim.Adam(net5.parameters())\n",
        "optimizer6 = optim.Adam(net6.parameters())\n",
        "optimizer7 = optim.Adam(net7.parameters())\n",
        "optimizer8 = optim.Adam(net8.parameters())\n",
        "optimizer9 = optim.Adam(net9.parameters())\n",
        "optimizer10 = optim.Adam(net10.parameters())\n",
        "optimizer11 = optim.Adam(net11.parameters())\n",
        "optimizer12 = optim.Adam(net12.parameters())\n",
        "\n",
        "epochs = tqdm_notebook(range(2000))\n",
        "criterion = nn.MSELoss()\n",
        "for epoch in epochs:\n",
        "  optimizer0.zero_grad()  \n",
        "  optimizer1.zero_grad() \n",
        "  optimizer2.zero_grad() \n",
        "  optimizer3.zero_grad() \n",
        "  optimizer4.zero_grad() \n",
        "  optimizer5.zero_grad() \n",
        "  optimizer6.zero_grad() \n",
        "  optimizer7.zero_grad() \n",
        "  optimizer8.zero_grad() \n",
        "  optimizer9.zero_grad() \n",
        "  optimizer10.zero_grad() \n",
        "  optimizer11.zero_grad() \n",
        "  optimizer12.zero_grad() \n",
        "\n",
        "  ageOut = net0(ageIn)\n",
        "  sexOut = net1(sexIn)\n",
        "  cpOut = net2(cpIn)\n",
        "  bpsOut = net3(bpsIn)\n",
        "  cholOut = net4(cholIn)\n",
        "  fbsOut = net5(fbsIn)\n",
        "  ecgOut = net6(ecgIn)\n",
        "  maxOut = net7(maxIn)\n",
        "  exangOut = net8(exangIn)\n",
        "  oldpeakOut = net9(oldpeakIn)\n",
        "  slopeOut = net10(slopeIn)\n",
        "  caOut = net11(caIn)\n",
        "  thalOut = net12(thalIn)\n",
        "\n",
        "  totalOut = ageOut + sexOut + cpOut + bpsOut + cholOut + fbsOut + ecgOut + maxOut + exangOut + oldpeakOut + slopeOut + caOut + thalOut\n",
        "  # sigmoidOut = F.sigmoid(totalOut)\n",
        "  loss = criterion(totalOut,trainingOutput)\n",
        "  loss.backward()\n",
        "\n",
        "  optimizer0.step() \n",
        "  optimizer1.step() \n",
        "  optimizer2.step() \n",
        "  optimizer3.step() \n",
        "  optimizer4.step() \n",
        "  optimizer5.step() \n",
        "  optimizer6.step() \n",
        "  optimizer7.step() \n",
        "  optimizer8.step() \n",
        "  optimizer9.step() \n",
        "  optimizer10.step() \n",
        "  optimizer11.step()\n",
        "  optimizer12.step()  \n",
        "\n",
        "  epochs.set_description(str(loss.data.item()))\n",
        "\n",
        "print(loss.data.item())"
      ],
      "execution_count": null,
      "outputs": [
        {
          "output_type": "stream",
          "text": [
            "/usr/local/lib/python3.6/dist-packages/ipykernel_launcher.py:18: TqdmDeprecationWarning: This function will be removed in tqdm==5.0.0\n",
            "Please use `tqdm.notebook.tqdm` instead of `tqdm.tqdm_notebook`\n"
          ],
          "name": "stderr"
        },
        {
          "output_type": "display_data",
          "data": {
            "application/vnd.jupyter.widget-view+json": {
              "model_id": "2b75ad78dd1a4611a29d12c6d6eec762",
              "version_minor": 0,
              "version_major": 2
            },
            "text/plain": [
              "HBox(children=(IntProgress(value=0, max=2000), HTML(value='')))"
            ]
          },
          "metadata": {
            "tags": []
          }
        },
        {
          "output_type": "stream",
          "text": [
            "\n",
            "0.085206538438797\n"
          ],
          "name": "stdout"
        }
      ]
    },
    {
      "cell_type": "code",
      "metadata": {
        "id": "o5B6I015jggz",
        "colab_type": "code",
        "colab": {
          "base_uri": "https://localhost:8080/",
          "height": 279
        },
        "outputId": "c323132b-8a84-4c04-e633-62bf9fd80ca5"
      },
      "source": [
        "# Age\n",
        "ageOutNew = ageOut.detach().numpy()\n",
        "plt.scatter(ageIn,ageOutNew)\n",
        "plt.xlabel(\"Age (in 100 years)\")\n",
        "plt.ylabel(\"Heart disease risk\")\n",
        "plt.show()"
      ],
      "execution_count": null,
      "outputs": [
        {
          "output_type": "display_data",
          "data": {
            "image/png": "[encoded data removed]",
            "text/plain": [
              "<Figure size 432x288 with 1 Axes>"
            ]
          },
          "metadata": {
            "tags": [],
            "needs_background": "light"
          }
        }
      ]
    },
    {
      "cell_type": "code",
      "metadata": {
        "id": "ez1jjlGujnT4",
        "colab_type": "code",
        "colab": {
          "base_uri": "https://localhost:8080/",
          "height": 281
        },
        "outputId": "51d3b5ec-8c5d-481e-a05a-e286b87c9934"
      },
      "source": [
        "# Gender \n",
        "# 1 = male; 0 = female\n",
        "sexOutNew = sexOut.detach().numpy()\n",
        "plt.xlabel(\"Gender (1=male; 0=female)\")\n",
        "plt.ylabel(\"Heart disease risk\")\n",
        "plt.scatter(sexIn,sexOutNew)\n",
        "plt.show()"
      ],
      "execution_count": null,
      "outputs": [
        {
          "output_type": "display_data",
          "data": {
            "image/png": "[encoded data removed]",
            "text/plain": [
              "<Figure size 432x288 with 1 Axes>"
            ]
          },
          "metadata": {
            "tags": [],
            "needs_background": "light"
          }
        }
      ]
    },
    {
      "cell_type": "code",
      "metadata": {
        "id": "R-JIzAfQjqe8",
        "colab_type": "code",
        "colab": {
          "base_uri": "https://localhost:8080/",
          "height": 279
        },
        "outputId": "beb9c9a1-476f-4c22-9ced-a01bcd17c61e"
      },
      "source": [
        "# Chest pain type\n",
        "# 1 = typical angina; 2 = atypical angina; 3 = non — anginal pain; 4 = asymptotic\n",
        "cpOutNew = cpOut.detach().numpy()\n",
        "plt.xlabel(\"Chest pain type\")\n",
        "plt.ylabel(\"Heart disease risk\")\n",
        "plt.scatter(cpIn,cpOutNew)\n",
        "plt.show()"
      ],
      "execution_count": null,
      "outputs": [
        {
          "output_type": "display_data",
          "data": {
            "image/png": "[encoded data removed]",
            "text/plain": [
              "<Figure size 432x288 with 1 Axes>"
            ]
          },
          "metadata": {
            "tags": [],
            "needs_background": "light"
          }
        }
      ]
    },
    {
      "cell_type": "code",
      "metadata": {
        "id": "f1klbnVTjthR",
        "colab_type": "code",
        "colab": {
          "base_uri": "https://localhost:8080/",
          "height": 279
        },
        "outputId": "9f126e98-2529-48b3-e9a8-99062fcc36a0"
      },
      "source": [
        "# resting blood pressure\n",
        "bpsOutNew = bpsOut.detach().numpy()\n",
        "plt.xlabel(\"Resting blood pressure (in 200 mmHg)\")\n",
        "plt.ylabel(\"Heart disease risk\")\n",
        "plt.scatter(bpsIn,bpsOutNew)\n",
        "plt.show()"
      ],
      "execution_count": null,
      "outputs": [
        {
          "output_type": "display_data",
          "data": {
            "image/png": "[encoded data removed]",
            "text/plain": [
              "<Figure size 432x288 with 1 Axes>"
            ]
          },
          "metadata": {
            "tags": [],
            "needs_background": "light"
          }
        }
      ]
    },
    {
      "cell_type": "code",
      "metadata": {
        "id": "k8OV4aH8jwNM",
        "colab_type": "code",
        "colab": {
          "base_uri": "https://localhost:8080/",
          "height": 279
        },
        "outputId": "91ccb966-4eb9-46b4-e642-47e735d02921"
      },
      "source": [
        "# Serum cholestoral \n",
        "cholOutNew = cholOut.detach().numpy()\n",
        "plt.xlabel(\"Serum cholestoral (in 500 mg/dl)\")\n",
        "plt.ylabel(\"Heart disease risk\")\n",
        "plt.scatter(cholIn,cholOutNew)\n",
        "plt.show()"
      ],
      "execution_count": null,
      "outputs": [
        {
          "output_type": "display_data",
          "data": {
            "image/png": "[encoded data removed]",
            "text/plain": [
              "<Figure size 432x288 with 1 Axes>"
            ]
          },
          "metadata": {
            "tags": [],
            "needs_background": "light"
          }
        }
      ]
    },
    {
      "cell_type": "code",
      "metadata": {
        "id": "w2wwm8qbjycj",
        "colab_type": "code",
        "colab": {
          "base_uri": "https://localhost:8080/",
          "height": 279
        },
        "outputId": "705cba3e-ca4a-4b0d-ceeb-9e11c4c2af49"
      },
      "source": [
        "# Fasting blood sugar > 120mg/dl\n",
        "# 1 = true; 0 = false;\n",
        "fbsOutNew = fbsOut.detach().numpy()\n",
        "plt.scatter(fbsIn,fbsOutNew)\n",
        "plt.xlabel(\"Fasting blood sugar > 120mg/dl (0=false;1=true)\")\n",
        "plt.ylabel(\"Heart disease risk\")\n",
        "plt.show()"
      ],
      "execution_count": null,
      "outputs": [
        {
          "output_type": "display_data",
          "data": {
            "image/png": "[encoded data removed]",
            "text/plain": [
              "<Figure size 432x288 with 1 Axes>"
            ]
          },
          "metadata": {
            "tags": [],
            "needs_background": "light"
          }
        }
      ]
    },
    {
      "cell_type": "code",
      "metadata": {
        "id": "05dswe8Tj1dU",
        "colab_type": "code",
        "colab": {
          "base_uri": "https://localhost:8080/",
          "height": 279
        },
        "outputId": "79aa6a05-e70f-4368-e233-0e92ecf453bb"
      },
      "source": [
        "# Resting electrocardiographic results\n",
        "ecgOutNew = ecgOut.detach().numpy()\n",
        "plt.scatter(ecgIn,ecgOutNew)\n",
        "plt.xlabel(\"Resting electrocardiographic results\")\n",
        "plt.ylabel(\"Heart disease risk\")\n",
        "plt.show()"
      ],
      "execution_count": null,
      "outputs": [
        {
          "output_type": "display_data",
          "data": {
            "image/png": "[encoded data removed]",
            "text/plain": [
              "<Figure size 432x288 with 1 Axes>"
            ]
          },
          "metadata": {
            "tags": [],
            "needs_background": "light"
          }
        }
      ]
    },
    {
      "cell_type": "code",
      "metadata": {
        "id": "sOvgfhryj4CM",
        "colab_type": "code",
        "colab": {
          "base_uri": "https://localhost:8080/",
          "height": 282
        },
        "outputId": "db27dc95-8863-4c7b-d3b3-2345957ab612"
      },
      "source": [
        "# Maximum heart rate achieved\n",
        "maxOutNew = maxOut.detach().numpy()\n",
        "plt.scatter(maxIn,maxOutNew)\n",
        "plt.xlabel(\"Maximum heart rate achieved (in 200 beats/min)\")\n",
        "plt.ylabel(\"Heart disease risk\")\n",
        "plt.show()"
      ],
      "execution_count": null,
      "outputs": [
        {
          "output_type": "display_data",
          "data": {
            "image/png": "[encoded data removed]",
            "text/plain": [
              "<Figure size 432x288 with 1 Axes>"
            ]
          },
          "metadata": {
            "tags": [],
            "needs_background": "light"
          }
        }
      ]
    },
    {
      "cell_type": "code",
      "metadata": {
        "id": "VmIxxvGQj6WX",
        "colab_type": "code",
        "colab": {
          "base_uri": "https://localhost:8080/",
          "height": 283
        },
        "outputId": "5b210420-58d0-4d02-fd75-2c14fa425e07"
      },
      "source": [
        "# Exercise induced angina \n",
        "# 1 = yes; 0 = no\n",
        "exangOutNew = exangOut.detach().numpy()\n",
        "plt.scatter(exangIn,exangOutNew)\n",
        "plt.xlabel(\"Exercise induced angina (0=no;1=yes)\")\n",
        "plt.ylabel(\"Heart disease risk\")\n",
        "plt.show()"
      ],
      "execution_count": null,
      "outputs": [
        {
          "output_type": "display_data",
          "data": {
            "image/png": "[encoded data removed]",
            "text/plain": [
              "<Figure size 432x288 with 1 Axes>"
            ]
          },
          "metadata": {
            "tags": [],
            "needs_background": "light"
          }
        }
      ]
    },
    {
      "cell_type": "code",
      "metadata": {
        "id": "cRs7kW7Aj8ai",
        "colab_type": "code",
        "colab": {
          "base_uri": "https://localhost:8080/",
          "height": 279
        },
        "outputId": "81d6a836-74d8-4bd8-a187-e37c071388a1"
      },
      "source": [
        "# ST depression induced by exercise relative to rest\n",
        "oldpeakOutNew = oldpeakOut.detach().numpy()\n",
        "plt.scatter(oldpeakIn,oldpeakOutNew)\n",
        "plt.xlabel(\"ST depression induced by exercise relative to rest\")\n",
        "plt.ylabel(\"Heart disease risk\")\n",
        "plt.show()"
      ],
      "execution_count": null,
      "outputs": [
        {
          "output_type": "display_data",
          "data": {
            "image/png": "[encoded data removed]",
            "text/plain": [
              "<Figure size 432x288 with 1 Axes>"
            ]
          },
          "metadata": {
            "tags": [],
            "needs_background": "light"
          }
        }
      ]
    },
    {
      "cell_type": "code",
      "metadata": {
        "id": "nnJ6-hJ5kAxi",
        "colab_type": "code",
        "colab": {
          "base_uri": "https://localhost:8080/",
          "height": 279
        },
        "outputId": "648b5c7a-6e6a-4807-a131-355fc50cf8a0"
      },
      "source": [
        "# The slope of the peak exercise ST segment\n",
        "slopeOutNew = slopeOut.detach().numpy()\n",
        "plt.scatter(slopeIn,slopeOutNew)\n",
        "plt.xlabel(\"The slope of the peak exercise ST segment\")\n",
        "plt.ylabel(\"Heart disease risk\")\n",
        "plt.show()"
      ],
      "execution_count": null,
      "outputs": [
        {
          "output_type": "display_data",
          "data": {
            "image/png": "[encoded data removed]",
            "text/plain": [
              "<Figure size 432x288 with 1 Axes>"
            ]
          },
          "metadata": {
            "tags": [],
            "needs_background": "light"
          }
        }
      ]
    },
    {
      "cell_type": "code",
      "metadata": {
        "id": "gzK_n1f2Zpv5",
        "colab_type": "code",
        "colab": {
          "base_uri": "https://localhost:8080/",
          "height": 279
        },
        "outputId": "b217f8fa-467d-495f-f4bf-d6c7f5376d05"
      },
      "source": [
        "caOutNew = caOut.detach().numpy()\n",
        "plt.scatter(caIn,caOutNew)\n",
        "plt.xlabel(\"Number of major vessels colored by fluoroscope\")\n",
        "plt.ylabel(\"Heart disease risk\")\n",
        "plt.show()"
      ],
      "execution_count": null,
      "outputs": [
        {
          "output_type": "display_data",
          "data": {
            "image/png": "[encoded data removed]",
            "text/plain": [
              "<Figure size 432x288 with 1 Axes>"
            ]
          },
          "metadata": {
            "tags": [],
            "needs_background": "light"
          }
        }
      ]
    },
    {
      "cell_type": "code",
      "metadata": {
        "id": "it_h-1bbkC5w",
        "colab_type": "code",
        "colab": {
          "base_uri": "https://localhost:8080/",
          "height": 282
        },
        "outputId": "c2dc786c-955b-4156-aed1-83103d4be4c0"
      },
      "source": [
        "# 1 = normal; 2 = fixed defect; 3 = reversable defect\n",
        "thalOutNew = thalOut.detach().numpy()\n",
        "plt.scatter(thalIn,thalOutNew)\n",
        "plt.xlabel(\"Thalassemia\")\n",
        "plt.ylabel(\"Heart disease risk\")\n",
        "plt.show()"
      ],
      "execution_count": null,
      "outputs": [
        {
          "output_type": "display_data",
          "data": {
            "image/png": "[encoded data removed]",
            "text/plain": [
              "<Figure size 432x288 with 1 Axes>"
            ]
          },
          "metadata": {
            "tags": [],
            "needs_background": "light"
          }
        }
      ]
    },
    {
      "cell_type": "code",
      "metadata": {
        "id": "WZpzUccAn-Mz",
        "colab_type": "code",
        "colab": {
          "base_uri": "https://localhost:8080/",
          "height": 51
        },
        "outputId": "cb6013de-e5b3-4b3e-fd82-cb1712f0fd42"
      },
      "source": [
        "# Testing set\n",
        "testingInput = testingSet[:,:13]\n",
        "testingOutput = testingSet[:,13]\n",
        "testingInput = testingInput.astype(np.float)\n",
        "testingOutput = testingOutput.astype(np.float)\n",
        "testingOutput = torch.from_numpy(testingOutput).float().reshape(-1,1)\n",
        "print(np.shape(testingOutput))\n",
        "print(np.shape(testingInput))"
      ],
      "execution_count": null,
      "outputs": [
        {
          "output_type": "stream",
          "text": [
            "torch.Size([53, 1])\n",
            "(53, 13)\n"
          ],
          "name": "stdout"
        }
      ]
    },
    {
      "cell_type": "code",
      "metadata": {
        "id": "8xhKF4piohVp",
        "colab_type": "code",
        "colab": {
          "base_uri": "https://localhost:8080/",
          "height": 34
        },
        "outputId": "e4aa5491-3a42-44b1-a23f-a8550eb4c5c0"
      },
      "source": [
        "totalOutNp = totalOut.detach().numpy()\n",
        "totalOutNp = totalOutNp - 0.5\n",
        "finalOut = np.ceil(totalOutNp).astype(np.int)\n",
        "trainingOutputNp = trainingOutput.detach().numpy()\n",
        "totalCorrect = 0\n",
        "totalPoints =  trainingOutputNp.size\n",
        "for i in range(totalPoints):\n",
        "  if(finalOut[i] == trainingOutputNp[i]):\n",
        "    totalCorrect += 1\n",
        "print(totalCorrect/totalPoints)"
      ],
      "execution_count": null,
      "outputs": [
        {
          "output_type": "stream",
          "text": [
            "0.896\n"
          ],
          "name": "stdout"
        }
      ]
    },
    {
      "cell_type": "code",
      "metadata": {
        "id": "bqcKAuWxvTn6",
        "colab_type": "code",
        "colab": {}
      },
      "source": [
        "ageIn = torch.from_numpy(testingInput[:,0]).float().reshape(-1,1)\n",
        "ageIn = ageIn/100\n",
        "sexIn = torch.from_numpy(testingInput[:,1]).float().reshape(-1,1)\n",
        "cpIn = torch.from_numpy(testingInput[:,2]).float().reshape(-1,1)\n",
        "bpsIn = torch.from_numpy(testingInput[:,3]).float().reshape(-1,1)\n",
        "bpsIn = bpsIn/200\n",
        "cholIn = torch.from_numpy(testingInput[:,4]).float().reshape(-1,1)\n",
        "cholIn = cholIn/500\n",
        "fbsIn = torch.from_numpy(testingInput[:,5]).float().reshape(-1,1)\n",
        "ecgIn = torch.from_numpy(testingInput[:,6]).float().reshape(-1,1)\n",
        "maxIn = torch.from_numpy(testingInput[:,7]).float().reshape(-1,1)\n",
        "maxIn = maxIn/200\n",
        "exangIn = torch.from_numpy(testingInput[:,8]).float().reshape(-1,1)\n",
        "oldpeakIn = torch.from_numpy(testingInput[:,9]).float().reshape(-1,1)\n",
        "slopeIn = torch.from_numpy(testingInput[:,10]).float().reshape(-1,1)\n",
        "caIn = torch.from_numpy(testingInput[:,11]).float().reshape(-1,1)\n",
        "thalIn = torch.from_numpy(testingInput[:,12]).float().reshape(-1,1)"
      ],
      "execution_count": null,
      "outputs": []
    },
    {
      "cell_type": "code",
      "metadata": {
        "id": "awyS0CSrv092",
        "colab_type": "code",
        "colab": {}
      },
      "source": [
        "ageOut = net0(ageIn)\n",
        "sexOut = net1(sexIn)\n",
        "cpOut = net2(cpIn)\n",
        "bpsOut = net3(bpsIn)\n",
        "cholOut = net4(cholIn)\n",
        "fbsOut = net5(fbsIn)\n",
        "ecgOut = net6(ecgIn)\n",
        "maxOut = net7(maxIn)\n",
        "exangOut = net8(exangIn)\n",
        "oldpeakOut = net9(oldpeakIn)\n",
        "slopeOut = net10(slopeIn)\n",
        "caOut = net11(caIn)\n",
        "thalOut = net12(thalIn)\n",
        "\n",
        "totalOut = ageOut + sexOut + cpOut + bpsOut + cholOut + fbsOut + ecgOut + maxOut + exangOut + oldpeakOut + slopeOut + caOut + thalOut"
      ],
      "execution_count": null,
      "outputs": []
    },
    {
      "cell_type": "code",
      "metadata": {
        "id": "YKfkCkwnv-wS",
        "colab_type": "code",
        "colab": {
          "base_uri": "https://localhost:8080/",
          "height": 34
        },
        "outputId": "e002701d-e15a-4df4-e811-972951aba427"
      },
      "source": [
        "totalOutNp = totalOut.detach().numpy()\n",
        "totalOutNp = totalOutNp - 0.5\n",
        "finalOut = np.ceil(totalOutNp).astype(np.int)\n",
        "testingOutputNp = testingOutput.detach().numpy()\n",
        "totalCorrect = 0\n",
        "totalPoints =  testingOutputNp.size\n",
        "for i in range(totalPoints):\n",
        "  if(finalOut[i] == testingOutputNp[i]):\n",
        "    totalCorrect += 1\n",
        "print(totalCorrect/totalPoints)"
      ],
      "execution_count": null,
      "outputs": [
        {
          "output_type": "stream",
          "text": [
            "0.8113207547169812\n"
          ],
          "name": "stdout"
        }
      ]
    }
  ]
}