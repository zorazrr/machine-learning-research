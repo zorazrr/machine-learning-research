{
  "nbformat": 4,
  "nbformat_minor": 0,
  "metadata": {
    "colab": {
      "name": "backPain.ipynb",
      "provenance": [],
      "authorship_tag": "ABX9TyOjRg3kBhJY7r8niKg3bH2m"
    },
    "kernelspec": {
      "name": "python3",
      "display_name": "Python 3"
    },
    "widgets": {
      "application/vnd.jupyter.widget-state+json": {
        "dacc496eb8e7445ab2944061496b901c": {
          "model_module": "@jupyter-widgets/controls",
          "model_name": "HBoxModel",
          "state": {
            "_view_name": "HBoxView",
            "_dom_classes": [],
            "_model_name": "HBoxModel",
            "_view_module": "@jupyter-widgets/controls",
            "_model_module_version": "1.5.0",
            "_view_count": null,
            "_view_module_version": "1.5.0",
            "box_style": "",
            "layout": "IPY_MODEL_e7ef9e6a1d4a4c6bb2d4870c540f2234",
            "_model_module": "@jupyter-widgets/controls",
            "children": [
              "IPY_MODEL_7e97ed57f65445288aaf1c1be0de78fb",
              "IPY_MODEL_93f92328944b4ec5a7c4bfd8aa421b83"
            ]
          }
        },
        "e7ef9e6a1d4a4c6bb2d4870c540f2234": {
          "model_module": "@jupyter-widgets/base",
          "model_name": "LayoutModel",
          "state": {
            "_view_name": "LayoutView",
            "grid_template_rows": null,
            "right": null,
            "justify_content": null,
            "_view_module": "@jupyter-widgets/base",
            "overflow": null,
            "_model_module_version": "1.2.0",
            "_view_count": null,
            "flex_flow": null,
            "width": null,
            "min_width": null,
            "border": null,
            "align_items": null,
            "bottom": null,
            "_model_module": "@jupyter-widgets/base",
            "top": null,
            "grid_column": null,
            "overflow_y": null,
            "overflow_x": null,
            "grid_auto_flow": null,
            "grid_area": null,
            "grid_template_columns": null,
            "flex": null,
            "_model_name": "LayoutModel",
            "justify_items": null,
            "grid_row": null,
            "max_height": null,
            "align_content": null,
            "visibility": null,
            "align_self": null,
            "height": null,
            "min_height": null,
            "padding": null,
            "grid_auto_rows": null,
            "grid_gap": null,
            "max_width": null,
            "order": null,
            "_view_module_version": "1.2.0",
            "grid_template_areas": null,
            "object_position": null,
            "object_fit": null,
            "grid_auto_columns": null,
            "margin": null,
            "display": null,
            "left": null
          }
        },
        "7e97ed57f65445288aaf1c1be0de78fb": {
          "model_module": "@jupyter-widgets/controls",
          "model_name": "FloatProgressModel",
          "state": {
            "_view_name": "ProgressView",
            "style": "IPY_MODEL_89cac5e87b4b4738be4b126b8c747b2a",
            "_dom_classes": [],
            "description": "0.11863413453102112: 100%",
            "_model_name": "FloatProgressModel",
            "bar_style": "success",
            "max": 2500,
            "_view_module": "@jupyter-widgets/controls",
            "_model_module_version": "1.5.0",
            "value": 2500,
            "_view_count": null,
            "_view_module_version": "1.5.0",
            "orientation": "horizontal",
            "min": 0,
            "description_tooltip": null,
            "_model_module": "@jupyter-widgets/controls",
            "layout": "IPY_MODEL_7db3f9cf926c453a9054da45e15e6f9f"
          }
        },
        "93f92328944b4ec5a7c4bfd8aa421b83": {
          "model_module": "@jupyter-widgets/controls",
          "model_name": "HTMLModel",
          "state": {
            "_view_name": "HTMLView",
            "style": "IPY_MODEL_c915c7b693454e5ca9cef7a8913b0778",
            "_dom_classes": [],
            "description": "",
            "_model_name": "HTMLModel",
            "placeholder": "​",
            "_view_module": "@jupyter-widgets/controls",
            "_model_module_version": "1.5.0",
            "value": " 2500/2500 [05:21&lt;00:00,  7.77it/s]",
            "_view_count": null,
            "_view_module_version": "1.5.0",
            "description_tooltip": null,
            "_model_module": "@jupyter-widgets/controls",
            "layout": "IPY_MODEL_739b9ddf5cd04976819c531543e63c08"
          }
        },
        "89cac5e87b4b4738be4b126b8c747b2a": {
          "model_module": "@jupyter-widgets/controls",
          "model_name": "ProgressStyleModel",
          "state": {
            "_view_name": "StyleView",
            "_model_name": "ProgressStyleModel",
            "description_width": "initial",
            "_view_module": "@jupyter-widgets/base",
            "_model_module_version": "1.5.0",
            "_view_count": null,
            "_view_module_version": "1.2.0",
            "bar_color": null,
            "_model_module": "@jupyter-widgets/controls"
          }
        },
        "7db3f9cf926c453a9054da45e15e6f9f": {
          "model_module": "@jupyter-widgets/base",
          "model_name": "LayoutModel",
          "state": {
            "_view_name": "LayoutView",
            "grid_template_rows": null,
            "right": null,
            "justify_content": null,
            "_view_module": "@jupyter-widgets/base",
            "overflow": null,
            "_model_module_version": "1.2.0",
            "_view_count": null,
            "flex_flow": null,
            "width": null,
            "min_width": null,
            "border": null,
            "align_items": null,
            "bottom": null,
            "_model_module": "@jupyter-widgets/base",
            "top": null,
            "grid_column": null,
            "overflow_y": null,
            "overflow_x": null,
            "grid_auto_flow": null,
            "grid_area": null,
            "grid_template_columns": null,
            "flex": null,
            "_model_name": "LayoutModel",
            "justify_items": null,
            "grid_row": null,
            "max_height": null,
            "align_content": null,
            "visibility": null,
            "align_self": null,
            "height": null,
            "min_height": null,
            "padding": null,
            "grid_auto_rows": null,
            "grid_gap": null,
            "max_width": null,
            "order": null,
            "_view_module_version": "1.2.0",
            "grid_template_areas": null,
            "object_position": null,
            "object_fit": null,
            "grid_auto_columns": null,
            "margin": null,
            "display": null,
            "left": null
          }
        },
        "c915c7b693454e5ca9cef7a8913b0778": {
          "model_module": "@jupyter-widgets/controls",
          "model_name": "DescriptionStyleModel",
          "state": {
            "_view_name": "StyleView",
            "_model_name": "DescriptionStyleModel",
            "description_width": "",
            "_view_module": "@jupyter-widgets/base",
            "_model_module_version": "1.5.0",
            "_view_count": null,
            "_view_module_version": "1.2.0",
            "_model_module": "@jupyter-widgets/controls"
          }
        },
        "739b9ddf5cd04976819c531543e63c08": {
          "model_module": "@jupyter-widgets/base",
          "model_name": "LayoutModel",
          "state": {
            "_view_name": "LayoutView",
            "grid_template_rows": null,
            "right": null,
            "justify_content": null,
            "_view_module": "@jupyter-widgets/base",
            "overflow": null,
            "_model_module_version": "1.2.0",
            "_view_count": null,
            "flex_flow": null,
            "width": null,
            "min_width": null,
            "border": null,
            "align_items": null,
            "bottom": null,
            "_model_module": "@jupyter-widgets/base",
            "top": null,
            "grid_column": null,
            "overflow_y": null,
            "overflow_x": null,
            "grid_auto_flow": null,
            "grid_area": null,
            "grid_template_columns": null,
            "flex": null,
            "_model_name": "LayoutModel",
            "justify_items": null,
            "grid_row": null,
            "max_height": null,
            "align_content": null,
            "visibility": null,
            "align_self": null,
            "height": null,
            "min_height": null,
            "padding": null,
            "grid_auto_rows": null,
            "grid_gap": null,
            "max_width": null,
            "order": null,
            "_view_module_version": "1.2.0",
            "grid_template_areas": null,
            "object_position": null,
            "object_fit": null,
            "grid_auto_columns": null,
            "margin": null,
            "display": null,
            "left": null
          }
        }
      }
    }
  },
  "cells": [
    {
      "cell_type": "markdown",
      "metadata": {
        "id": "wrS7e3vBVBYp",
        "colab_type": "text"
      },
      "source": [
        "# Lower Back Pain Symptoms"
      ]
    },
    {
      "cell_type": "markdown",
      "metadata": {
        "id": "KuQJN1sfVFu_",
        "colab_type": "text"
      },
      "source": [
        "## Notes\n",
        "[Data Set Source](https://www.kaggle.com/sammy123/lower-back-pain-symptoms-dataset)   \n",
        "1. pelvic_incidence\n",
        "2. pelvic_tilt\n",
        "3. lumbar_lordosis_angle\n",
        "4. sacral_slope\n",
        "5. pelvic_radius\n",
        "6. degree_spondylolisthesis\n",
        "7. pelvic_slope\n",
        "8. Direct_tilt\n",
        "9. thoracic_slope\n",
        "10. cervical_tilt\n",
        "11. sacrum_angle\n",
        "12. scoliosis_slope\n",
        "\n"
      ]
    },
    {
      "cell_type": "markdown",
      "metadata": {
        "id": "BMS60J-IFZB4",
        "colab_type": "text"
      },
      "source": [
        "## Set up"
      ]
    },
    {
      "cell_type": "code",
      "metadata": {
        "id": "Dd7llSNSFbyE",
        "colab_type": "code",
        "colab": {
          "base_uri": "https://localhost:8080/",
          "height": 122
        },
        "outputId": "1c8fe365-f4af-4dbb-d390-fcfd32ece028"
      },
      "source": [
        "from google.colab import drive\n",
        "drive.mount('/content/drive')"
      ],
      "execution_count": 2,
      "outputs": [
        {
          "output_type": "stream",
          "text": [
            "Go to this URL in a browser: https://accounts.google.com/o/oauth2/auth?client_id=947318989803-6bn6qk8qdgf4n4g3pfee6491hc0brc4i.apps.googleusercontent.com&redirect_uri=urn%3aietf%3awg%3aoauth%3a2.0%3aoob&response_type=code&scope=email%20https%3a%2f%2fwww.googleapis.com%2fauth%2fdocs.test%20https%3a%2f%2fwww.googleapis.com%2fauth%2fdrive%20https%3a%2f%2fwww.googleapis.com%2fauth%2fdrive.photos.readonly%20https%3a%2f%2fwww.googleapis.com%2fauth%2fpeopleapi.readonly\n",
            "\n",
            "Enter your authorization code:\n",
            "··········\n",
            "Mounted at /content/drive\n"
          ],
          "name": "stdout"
        }
      ]
    },
    {
      "cell_type": "code",
      "metadata": {
        "id": "bTMWpow8KDNV",
        "colab_type": "code",
        "colab": {
          "base_uri": "https://localhost:8080/",
          "height": 255
        },
        "outputId": "14079760-48f6-45a7-edb0-3e1d6a744b1a"
      },
      "source": [
        "# Reading file\n",
        "path_to_file = \"/content/drive/My Drive/backPain.csv\" \n",
        "\n",
        "import csv\n",
        "\n",
        "data = []\n",
        "with open(path_to_file, mode='r') as csv_file:\n",
        "    csv_reader = csv.reader(csv_file, delimiter=',') # csv.DictReader(csv_file)\n",
        "    for row in csv_reader:\n",
        "      data.append(row)\n",
        "# Split title and data\n",
        "trainingData = data[1:] \n",
        "fakeTitle = data[:1]\n",
        "title = fakeTitle[0]\n",
        "for i in range(0, 14):\n",
        "  print(i, title[i])"
      ],
      "execution_count": 29,
      "outputs": [
        {
          "output_type": "stream",
          "text": [
            "0 Col1\n",
            "1 Col2\n",
            "2 Col3\n",
            "3 Col4\n",
            "4 Col5\n",
            "5 Col6\n",
            "6 Col7\n",
            "7 Col8\n",
            "8 Col9\n",
            "9 Col10\n",
            "10 Col11\n",
            "11 Col12\n",
            "12 Class_att\n",
            "13 \n"
          ],
          "name": "stdout"
        }
      ]
    },
    {
      "cell_type": "code",
      "metadata": {
        "id": "3GyOxFfvLYT0",
        "colab_type": "code",
        "colab": {
          "base_uri": "https://localhost:8080/",
          "height": 34
        },
        "outputId": "30720328-b471-45be-b5cf-14f9dac9682b"
      },
      "source": [
        "# Dimension check\n",
        "import numpy as np\n",
        "x = np.array(trainingData)\n",
        "print(np.shape(x))"
      ],
      "execution_count": 30,
      "outputs": [
        {
          "output_type": "stream",
          "text": [
            "(310, 14)\n"
          ],
          "name": "stdout"
        }
      ]
    },
    {
      "cell_type": "markdown",
      "metadata": {
        "id": "Yr3nyp8wMNWR",
        "colab_type": "text"
      },
      "source": [
        "## Re-integrating the data"
      ]
    },
    {
      "cell_type": "code",
      "metadata": {
        "id": "C35ZZkEPMP0_",
        "colab_type": "code",
        "colab": {}
      },
      "source": [
        "for i in range (0, 310):\n",
        "  if x[i][12] == 'Abnormal':\n",
        "    x[i][12] = 1\n",
        "  elif x[i][12] == 'Normal':\n",
        "    x[i][12] = 0"
      ],
      "execution_count": 31,
      "outputs": []
    },
    {
      "cell_type": "markdown",
      "metadata": {
        "id": "S21KF6S_LmCI",
        "colab_type": "text"
      },
      "source": [
        "## Shuffling & Splitting the data set "
      ]
    },
    {
      "cell_type": "code",
      "metadata": {
        "id": "aiOSVGSJLoDa",
        "colab_type": "code",
        "colab": {
          "base_uri": "https://localhost:8080/",
          "height": 34
        },
        "outputId": "ea867542-b94f-49ae-bb13-45ab5cf5e50d"
      },
      "source": [
        "np.random.shuffle(x)\n",
        "trainingSet = x[:270]\n",
        "testingSet = x[270:]\n",
        "print(np.shape(trainingSet))"
      ],
      "execution_count": 32,
      "outputs": [
        {
          "output_type": "stream",
          "text": [
            "(270, 14)\n"
          ],
          "name": "stdout"
        }
      ]
    },
    {
      "cell_type": "code",
      "metadata": {
        "id": "bVAUa5YSLuMV",
        "colab_type": "code",
        "colab": {}
      },
      "source": [
        "# A bunch of imports \n",
        "import torch\n",
        "import torch.nn as nn\n",
        "import torch.nn.functional as F\n",
        "import matplotlib.pyplot as plt\n",
        "import torch.optim as optim\n",
        "from tqdm import tqdm_notebook"
      ],
      "execution_count": 33,
      "outputs": []
    },
    {
      "cell_type": "code",
      "metadata": {
        "id": "Fp7QeN_lLv2X",
        "colab_type": "code",
        "colab": {
          "base_uri": "https://localhost:8080/",
          "height": 51
        },
        "outputId": "952c1ba3-81f7-4504-8318-c48ab8e3aad5"
      },
      "source": [
        "trainingInput = trainingSet[:,:12]\n",
        "trainingOutput = trainingSet[:,12]\n",
        "trainingInput = trainingInput.astype(np.float)\n",
        "trainingOutput = trainingOutput.astype(np.float)\n",
        "trainingOutput = torch.from_numpy(trainingOutput).float().reshape(-1,1)\n",
        "print(np.shape(trainingOutput))\n",
        "print(np.shape(trainingInput))"
      ],
      "execution_count": 34,
      "outputs": [
        {
          "output_type": "stream",
          "text": [
            "torch.Size([270, 1])\n",
            "(270, 12)\n"
          ],
          "name": "stdout"
        }
      ]
    },
    {
      "cell_type": "markdown",
      "metadata": {
        "id": "brLtgocHLeDy",
        "colab_type": "text"
      },
      "source": [
        "## Actual Experiment"
      ]
    },
    {
      "cell_type": "code",
      "metadata": {
        "id": "dZCIJxeYLZJ9",
        "colab_type": "code",
        "colab": {
          "base_uri": "https://localhost:8080/",
          "height": 34
        },
        "outputId": "bb1b3cbb-c67a-4125-f1b8-1d495f0c8d02"
      },
      "source": [
        "trainingFeatureNames = title[:-2] # TODO: Are we ending on index 12?\n",
        "inData = {}\n",
        "for i, feature in enumerate(trainingFeatureNames):\n",
        "  inData[i] = torch.from_numpy(trainingInput[:,i]).float().reshape(-1,1) # Can do by feature name or index\n",
        "\n",
        "print(np.shape(inData[11]))"
      ],
      "execution_count": 35,
      "outputs": [
        {
          "output_type": "stream",
          "text": [
            "torch.Size([270, 1])\n"
          ],
          "name": "stdout"
        }
      ]
    },
    {
      "cell_type": "code",
      "metadata": {
        "id": "SRJ0-_wmTeL_",
        "colab_type": "code",
        "colab": {}
      },
      "source": [
        "# Create Net class\n",
        "class Net(nn.Module):\n",
        "  def __init__(self, layerWidth=300):\n",
        "    super(Net, self).__init__();\n",
        "    self.fc1 = nn.Linear(1, layerWidth)\n",
        "    nn.init.kaiming_normal_(self.fc1.weight)\n",
        "    self.fc2 = nn.Linear(layerWidth, layerWidth)\n",
        "    nn.init.kaiming_normal_(self.fc2.weight)\n",
        "    self.fc3 = nn.Linear(layerWidth, layerWidth)\n",
        "    nn.init.kaiming_normal_(self.fc3.weight)\n",
        "    self.fc4 = nn.Linear(layerWidth,1)\n",
        "    nn.init.kaiming_normal_(self.fc4.weight)\n",
        "  def forward (self, x):\n",
        "    x = F.relu(self.fc1(x))\n",
        "    x = F.relu(self.fc2(x))\n",
        "    x = F.relu(self.fc3(x))\n",
        "    x = self.fc4(x)\n",
        "    return x"
      ],
      "execution_count": 44,
      "outputs": []
    },
    {
      "cell_type": "code",
      "metadata": {
        "id": "BwH6_6r-TiIt",
        "colab_type": "code",
        "colab": {}
      },
      "source": [
        "nets = []\n",
        "for i in range(11):\n",
        "  nets.append( Net() )"
      ],
      "execution_count": 37,
      "outputs": []
    },
    {
      "cell_type": "code",
      "metadata": {
        "id": "WxReGwsQToK7",
        "colab_type": "code",
        "colab": {
          "base_uri": "https://localhost:8080/",
          "height": 134,
          "referenced_widgets": [
            "dacc496eb8e7445ab2944061496b901c",
            "e7ef9e6a1d4a4c6bb2d4870c540f2234",
            "7e97ed57f65445288aaf1c1be0de78fb",
            "93f92328944b4ec5a7c4bfd8aa421b83",
            "89cac5e87b4b4738be4b126b8c747b2a",
            "7db3f9cf926c453a9054da45e15e6f9f",
            "c915c7b693454e5ca9cef7a8913b0778",
            "739b9ddf5cd04976819c531543e63c08"
          ]
        },
        "outputId": "dc89e215-1ade-4191-e35c-65628a91a7ae"
      },
      "source": [
        "import torch.optim as optim\n",
        "from tqdm import tqdm_notebook\n",
        "\n",
        "optimizers = [optim.Adam(nets[i].parameters()) for i in range(len(nets))]\n",
        "\n",
        "epochs = tqdm_notebook(range(2500))\n",
        "criterion = nn.MSELoss()\n",
        "for epoch in epochs:\n",
        "  for optimizer in optimizers:\n",
        "    optimizer.zero_grad()\n",
        "\n",
        "  outputs = [nets[i](inData[i]) for i in range(len(nets))]\n",
        "\n",
        "  totalOut = sum(outputs) # TODO: Check that this works.\n",
        "  loss = criterion(totalOut,trainingOutput)\n",
        "  loss.backward()\n",
        "\n",
        "  for optimizer in optimizers:\n",
        "    optimizer.step()\n",
        "\n",
        "  epochs.set_description(str(loss.data.item()))\n",
        "\n",
        "print(loss.data.item())"
      ],
      "execution_count": 39,
      "outputs": [
        {
          "output_type": "stream",
          "text": [
            "/usr/local/lib/python3.6/dist-packages/ipykernel_launcher.py:6: TqdmDeprecationWarning: This function will be removed in tqdm==5.0.0\n",
            "Please use `tqdm.notebook.tqdm` instead of `tqdm.tqdm_notebook`\n",
            "  \n"
          ],
          "name": "stderr"
        },
        {
          "output_type": "display_data",
          "data": {
            "application/vnd.jupyter.widget-view+json": {
              "model_id": "dacc496eb8e7445ab2944061496b901c",
              "version_minor": 0,
              "version_major": 2
            },
            "text/plain": [
              "HBox(children=(FloatProgress(value=0.0, max=2500.0), HTML(value='')))"
            ]
          },
          "metadata": {
            "tags": []
          }
        },
        {
          "output_type": "stream",
          "text": [
            "\n",
            "0.11863413453102112\n"
          ],
          "name": "stdout"
        }
      ]
    },
    {
      "cell_type": "code",
      "metadata": {
        "id": "oo-n9BovVAt_",
        "colab_type": "code",
        "colab": {
          "base_uri": "https://localhost:8080/",
          "height": 1000
        },
        "outputId": "e8134251-7a4e-4f2e-9455-36c85a263283"
      },
      "source": [
        "def plotFeatureFunction(featureIndex):\n",
        "  newOutput = outputs[featureIndex].detach().numpy()\n",
        "  plt.scatter(inData[featureIndex], newOutput)\n",
        "  plt.xlabel(trainingFeatureNames[featureIndex])\n",
        "  plt.ylabel(\"COVID-19 risk\")\n",
        "  plt.show()\n",
        "\n",
        "for i in range(len(nets)):\n",
        "  plotFeatureFunction(i)"
      ],
      "execution_count": 40,
      "outputs": [
        {
          "output_type": "display_data",
          "data": {
            "image/png": "[encoded data removed]",
            "text/plain": [
              "<Figure size 432x288 with 1 Axes>"
            ]
          },
          "metadata": {
            "tags": [],
            "needs_background": "light"
          }
        },
        {
          "output_type": "display_data",
          "data": {
            "image/png": "[encoded data removed]",
            "text/plain": [
              "<Figure size 432x288 with 1 Axes>"
            ]
          },
          "metadata": {
            "tags": [],
            "needs_background": "light"
          }
        },
        {
          "output_type": "display_data",
          "data": {
            "image/png": "[encoded data removed]",
            "text/plain": [
              "<Figure size 432x288 with 1 Axes>"
            ]
          },
          "metadata": {
            "tags": [],
            "needs_background": "light"
          }
        },
        {
          "output_type": "display_data",
          "data": {
            "image/png": "[encoded data removed]",
            "text/plain": [
              "<Figure size 432x288 with 1 Axes>"
            ]
          },
          "metadata": {
            "tags": [],
            "needs_background": "light"
          }
        },
        {
          "output_type": "display_data",
          "data": {
            "image/png": "[encoded data removed]",
            "text/plain": [
              "<Figure size 432x288 with 1 Axes>"
            ]
          },
          "metadata": {
            "tags": [],
            "needs_background": "light"
          }
        },
        {
          "output_type": "display_data",
          "data": {
            "image/png": "[encoded data removed]",
            "text/plain": [
              "<Figure size 432x288 with 1 Axes>"
            ]
          },
          "metadata": {
            "tags": [],
            "needs_background": "light"
          }
        },
        {
          "output_type": "display_data",
          "data": {
            "image/png": "[encoded data removed]",
            "text/plain": [
              "<Figure size 432x288 with 1 Axes>"
            ]
          },
          "metadata": {
            "tags": [],
            "needs_background": "light"
          }
        },
        {
          "output_type": "display_data",
          "data": {
            "image/png": "[encoded data removed]",
            "text/plain": [
              "<Figure size 432x288 with 1 Axes>"
            ]
          },
          "metadata": {
            "tags": [],
            "needs_background": "light"
          }
        },
        {
          "output_type": "display_data",
          "data": {
            "image/png": "[encoded data removed]",
            "text/plain": [
              "<Figure size 432x288 with 1 Axes>"
            ]
          },
          "metadata": {
            "tags": [],
            "needs_background": "light"
          }
        },
        {
          "output_type": "display_data",
          "data": {
            "image/png": "[encoded data removed]",
            "text/plain": [
              "<Figure size 432x288 with 1 Axes>"
            ]
          },
          "metadata": {
            "tags": [],
            "needs_background": "light"
          }
        },
        {
          "output_type": "display_data",
          "data": {
            "image/png": "[encoded data removed]",
            "text/plain": [
              "<Figure size 432x288 with 1 Axes>"
            ]
          },
          "metadata": {
            "tags": [],
            "needs_background": "light"
          }
        }
      ]
    },
    {
      "cell_type": "markdown",
      "metadata": {
        "id": "ODkXaYL4zf-k",
        "colab_type": "text"
      },
      "source": [
        "## Testing"
      ]
    },
    {
      "cell_type": "code",
      "metadata": {
        "id": "Fu0vCZn9zhlL",
        "colab_type": "code",
        "colab": {
          "base_uri": "https://localhost:8080/",
          "height": 34
        },
        "outputId": "24c1d5d1-90db-411a-80a3-061f22973f87"
      },
      "source": [
        "testingInput = testingSet[:,:12]\n",
        "testingOutput = testingSet[:,12]\n",
        "testingInput = testingInput.astype(np.float)\n",
        "testingOutput = testingOutput.astype(np.float)\n",
        "trainingFeatureNames = title[:-2] # TODO: Are we ending on index 12?\n",
        "testData = {}\n",
        "for i, feature in enumerate(trainingFeatureNames):\n",
        "  testData[i] = torch.from_numpy(testingInput[:,i]).float().reshape(-1,1) # Can do by feature name or index\n",
        "\n",
        "print(np.shape(testData[11]))"
      ],
      "execution_count": 43,
      "outputs": [
        {
          "output_type": "stream",
          "text": [
            "torch.Size([40, 1])\n"
          ],
          "name": "stdout"
        }
      ]
    },
    {
      "cell_type": "code",
      "metadata": {
        "id": "mnMyOfvn2e1i",
        "colab_type": "code",
        "colab": {
          "base_uri": "https://localhost:8080/",
          "height": 34
        },
        "outputId": "44999bb5-26e7-450d-ff40-817f161b7e21"
      },
      "source": [
        "totalOutNp = totalOut.detach().numpy()\n",
        "totalOutNp = totalOutNp - 0.5\n",
        "finalOut = np.ceil(totalOutNp).astype(np.int)\n",
        "trainingOutputNp = trainingOutput.detach().numpy()\n",
        "totalCorrect = 0\n",
        "totalPoints =  trainingOutputNp.size\n",
        "for i in range(totalPoints):\n",
        "  if(finalOut[i] == trainingOutputNp[i]):\n",
        "    totalCorrect += 1\n",
        "print(totalCorrect/totalPoints)"
      ],
      "execution_count": 45,
      "outputs": [
        {
          "output_type": "stream",
          "text": [
            "0.8518518518518519\n"
          ],
          "name": "stdout"
        }
      ]
    },
    {
      "cell_type": "code",
      "metadata": {
        "id": "ERB8wYc22r_E",
        "colab_type": "code",
        "colab": {}
      },
      "source": [
        "outputs = [nets[i](testData[i]) for i in range(len(nets))]\n",
        "totalOut = sum(outputs)"
      ],
      "execution_count": 51,
      "outputs": []
    },
    {
      "cell_type": "code",
      "metadata": {
        "id": "7TKyJm1RExPb",
        "colab_type": "code",
        "colab": {
          "base_uri": "https://localhost:8080/",
          "height": 34
        },
        "outputId": "eb6f8027-42e0-4c9d-9456-4cec79574024"
      },
      "source": [
        "totalOutNp = totalOut.detach().numpy()\n",
        "totalOutNp = totalOutNp - 0.5\n",
        "finalOut = np.ceil(totalOutNp).astype(np.int)\n",
        "# testingOutputNp = testingOutput.detach().numpy()\n",
        "totalCorrect = 0\n",
        "totalPoints =  testingOutput.size\n",
        "for i in range(totalPoints):\n",
        "  if(finalOut[i] == testingOutput[i]):\n",
        "    totalCorrect += 1\n",
        "print(totalCorrect/totalPoints)"
      ],
      "execution_count": 57,
      "outputs": [
        {
          "output_type": "stream",
          "text": [
            "0.8\n"
          ],
          "name": "stdout"
        }
      ]
    }
  ]
}