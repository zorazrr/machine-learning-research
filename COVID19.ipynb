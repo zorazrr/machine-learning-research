{
  "nbformat": 4,
  "nbformat_minor": 0,
  "metadata": {
    "colab": {
      "name": "COVID19.ipynb",
      "provenance": [],
      "collapsed_sections": []
    },
    "kernelspec": {
      "name": "python3",
      "display_name": "Python 3"
    },
    "widgets": {
      "application/vnd.jupyter.widget-state+json": {
        "5dff411d23fa46f68ae7ba4ffb946b94": {
          "model_module": "@jupyter-widgets/controls",
          "model_name": "HBoxModel",
          "state": {
            "_view_name": "HBoxView",
            "_dom_classes": [],
            "_model_name": "HBoxModel",
            "_view_module": "@jupyter-widgets/controls",
            "_model_module_version": "1.5.0",
            "_view_count": null,
            "_view_module_version": "1.5.0",
            "box_style": "",
            "layout": "IPY_MODEL_44d4191bb9514c0abc13678a4dcc6d01",
            "_model_module": "@jupyter-widgets/controls",
            "children": [
              "IPY_MODEL_ea26645fabb84f9eba29ad06ef84fe0b",
              "IPY_MODEL_a19c06a5bc8c4615a024aaa348d73997"
            ]
          }
        },
        "44d4191bb9514c0abc13678a4dcc6d01": {
          "model_module": "@jupyter-widgets/base",
          "model_name": "LayoutModel",
          "state": {
            "_view_name": "LayoutView",
            "grid_template_rows": null,
            "right": null,
            "justify_content": null,
            "_view_module": "@jupyter-widgets/base",
            "overflow": null,
            "_model_module_version": "1.2.0",
            "_view_count": null,
            "flex_flow": null,
            "width": null,
            "min_width": null,
            "border": null,
            "align_items": null,
            "bottom": null,
            "_model_module": "@jupyter-widgets/base",
            "top": null,
            "grid_column": null,
            "overflow_y": null,
            "overflow_x": null,
            "grid_auto_flow": null,
            "grid_area": null,
            "grid_template_columns": null,
            "flex": null,
            "_model_name": "LayoutModel",
            "justify_items": null,
            "grid_row": null,
            "max_height": null,
            "align_content": null,
            "visibility": null,
            "align_self": null,
            "height": null,
            "min_height": null,
            "padding": null,
            "grid_auto_rows": null,
            "grid_gap": null,
            "max_width": null,
            "order": null,
            "_view_module_version": "1.2.0",
            "grid_template_areas": null,
            "object_position": null,
            "object_fit": null,
            "grid_auto_columns": null,
            "margin": null,
            "display": null,
            "left": null
          }
        },
        "ea26645fabb84f9eba29ad06ef84fe0b": {
          "model_module": "@jupyter-widgets/controls",
          "model_name": "FloatProgressModel",
          "state": {
            "_view_name": "ProgressView",
            "style": "IPY_MODEL_285719913db545b2a45730a5ccef26d9",
            "_dom_classes": [],
            "description": "0.13510020077228546: 100%",
            "_model_name": "FloatProgressModel",
            "bar_style": "success",
            "max": 1000,
            "_view_module": "@jupyter-widgets/controls",
            "_model_module_version": "1.5.0",
            "value": 1000,
            "_view_count": null,
            "_view_module_version": "1.5.0",
            "orientation": "horizontal",
            "min": 0,
            "description_tooltip": null,
            "_model_module": "@jupyter-widgets/controls",
            "layout": "IPY_MODEL_4890fa3a4ac74408a80cc6dcf6e7ca41"
          }
        },
        "a19c06a5bc8c4615a024aaa348d73997": {
          "model_module": "@jupyter-widgets/controls",
          "model_name": "HTMLModel",
          "state": {
            "_view_name": "HTMLView",
            "style": "IPY_MODEL_8de98dcaa6744f49a1cbd2744afb5fbc",
            "_dom_classes": [],
            "description": "",
            "_model_name": "HTMLModel",
            "placeholder": "​",
            "_view_module": "@jupyter-widgets/controls",
            "_model_module_version": "1.5.0",
            "value": " 1000/1000 [05:49&lt;00:00,  2.86it/s]",
            "_view_count": null,
            "_view_module_version": "1.5.0",
            "description_tooltip": null,
            "_model_module": "@jupyter-widgets/controls",
            "layout": "IPY_MODEL_788141802b7148479d340243474b4743"
          }
        },
        "285719913db545b2a45730a5ccef26d9": {
          "model_module": "@jupyter-widgets/controls",
          "model_name": "ProgressStyleModel",
          "state": {
            "_view_name": "StyleView",
            "_model_name": "ProgressStyleModel",
            "description_width": "initial",
            "_view_module": "@jupyter-widgets/base",
            "_model_module_version": "1.5.0",
            "_view_count": null,
            "_view_module_version": "1.2.0",
            "bar_color": null,
            "_model_module": "@jupyter-widgets/controls"
          }
        },
        "4890fa3a4ac74408a80cc6dcf6e7ca41": {
          "model_module": "@jupyter-widgets/base",
          "model_name": "LayoutModel",
          "state": {
            "_view_name": "LayoutView",
            "grid_template_rows": null,
            "right": null,
            "justify_content": null,
            "_view_module": "@jupyter-widgets/base",
            "overflow": null,
            "_model_module_version": "1.2.0",
            "_view_count": null,
            "flex_flow": null,
            "width": null,
            "min_width": null,
            "border": null,
            "align_items": null,
            "bottom": null,
            "_model_module": "@jupyter-widgets/base",
            "top": null,
            "grid_column": null,
            "overflow_y": null,
            "overflow_x": null,
            "grid_auto_flow": null,
            "grid_area": null,
            "grid_template_columns": null,
            "flex": null,
            "_model_name": "LayoutModel",
            "justify_items": null,
            "grid_row": null,
            "max_height": null,
            "align_content": null,
            "visibility": null,
            "align_self": null,
            "height": null,
            "min_height": null,
            "padding": null,
            "grid_auto_rows": null,
            "grid_gap": null,
            "max_width": null,
            "order": null,
            "_view_module_version": "1.2.0",
            "grid_template_areas": null,
            "object_position": null,
            "object_fit": null,
            "grid_auto_columns": null,
            "margin": null,
            "display": null,
            "left": null
          }
        },
        "8de98dcaa6744f49a1cbd2744afb5fbc": {
          "model_module": "@jupyter-widgets/controls",
          "model_name": "DescriptionStyleModel",
          "state": {
            "_view_name": "StyleView",
            "_model_name": "DescriptionStyleModel",
            "description_width": "",
            "_view_module": "@jupyter-widgets/base",
            "_model_module_version": "1.5.0",
            "_view_count": null,
            "_view_module_version": "1.2.0",
            "_model_module": "@jupyter-widgets/controls"
          }
        },
        "788141802b7148479d340243474b4743": {
          "model_module": "@jupyter-widgets/base",
          "model_name": "LayoutModel",
          "state": {
            "_view_name": "LayoutView",
            "grid_template_rows": null,
            "right": null,
            "justify_content": null,
            "_view_module": "@jupyter-widgets/base",
            "overflow": null,
            "_model_module_version": "1.2.0",
            "_view_count": null,
            "flex_flow": null,
            "width": null,
            "min_width": null,
            "border": null,
            "align_items": null,
            "bottom": null,
            "_model_module": "@jupyter-widgets/base",
            "top": null,
            "grid_column": null,
            "overflow_y": null,
            "overflow_x": null,
            "grid_auto_flow": null,
            "grid_area": null,
            "grid_template_columns": null,
            "flex": null,
            "_model_name": "LayoutModel",
            "justify_items": null,
            "grid_row": null,
            "max_height": null,
            "align_content": null,
            "visibility": null,
            "align_self": null,
            "height": null,
            "min_height": null,
            "padding": null,
            "grid_auto_rows": null,
            "grid_gap": null,
            "max_width": null,
            "order": null,
            "_view_module_version": "1.2.0",
            "grid_template_areas": null,
            "object_position": null,
            "object_fit": null,
            "grid_auto_columns": null,
            "margin": null,
            "display": null,
            "left": null
          }
        }
      }
    }
  },
  "cells": [
    {
      "cell_type": "markdown",
      "metadata": {
        "id": "yAukyYG4x0Bw",
        "colab_type": "text"
      },
      "source": [
        "# COVID-19 Symptoms Checker Exploration"
      ]
    },
    {
      "cell_type": "markdown",
      "metadata": {
        "id": "zbzPVrEzDgRh",
        "colab_type": "text"
      },
      "source": [
        "## Notes\n",
        "[Data Set Source](https://www.kaggle.com/iamhungundji/covid19-symptoms-checker)   "
      ]
    },
    {
      "cell_type": "markdown",
      "metadata": {
        "id": "05H5IR3Y2H9c",
        "colab_type": "text"
      },
      "source": [
        "## Set up"
      ]
    },
    {
      "cell_type": "code",
      "metadata": {
        "id": "PaKXMreqx5WY",
        "colab_type": "code",
        "colab": {
          "base_uri": "https://localhost:8080/",
          "height": 122
        },
        "outputId": "e4bed0a2-7e92-4bf1-b206-9c9fc0f8659e"
      },
      "source": [
        "from google.colab import drive\n",
        "drive.mount('/content/drive')"
      ],
      "execution_count": 1,
      "outputs": [
        {
          "output_type": "stream",
          "text": [
            "Go to this URL in a browser: https://accounts.google.com/o/oauth2/auth?client_id=947318989803-6bn6qk8qdgf4n4g3pfee6491hc0brc4i.apps.googleusercontent.com&redirect_uri=urn%3aietf%3awg%3aoauth%3a2.0%3aoob&response_type=code&scope=email%20https%3a%2f%2fwww.googleapis.com%2fauth%2fdocs.test%20https%3a%2f%2fwww.googleapis.com%2fauth%2fdrive%20https%3a%2f%2fwww.googleapis.com%2fauth%2fdrive.photos.readonly%20https%3a%2f%2fwww.googleapis.com%2fauth%2fpeopleapi.readonly\n",
            "\n",
            "Enter your authorization code:\n",
            "··········\n",
            "Mounted at /content/drive\n"
          ],
          "name": "stdout"
        }
      ]
    },
    {
      "cell_type": "code",
      "metadata": {
        "id": "QmrpEm_KyJed",
        "colab_type": "code",
        "colab": {
          "base_uri": "https://localhost:8080/",
          "height": 476
        },
        "outputId": "3ac1acc0-4935-4229-f4f5-4d2e53371ddf"
      },
      "source": [
        "# Reading file\n",
        "path_to_file = \"/content/drive/My Drive/COVID.csv\" \n",
        "\n",
        "import csv\n",
        "\n",
        "data = []\n",
        "with open(path_to_file, mode='r') as csv_file:\n",
        "    csv_reader = csv.reader(csv_file, delimiter=',') # csv.DictReader(csv_file)\n",
        "    for row in csv_reader:\n",
        "      data.append(row)\n",
        "# Split title and data\n",
        "trainingData = data[1:] \n",
        "fakeTitle = data[:1]\n",
        "title = fakeTitle[0]\n",
        "for i in range(0, 27):\n",
        "  print(i, title[i])"
      ],
      "execution_count": 1,
      "outputs": [
        {
          "output_type": "stream",
          "text": [
            "0 Fever\n",
            "1 Tiredness\n",
            "2 Dry-Cough\n",
            "3 Difficulty-in-Breathing\n",
            "4 Sore-Throat\n",
            "5 None_Sympton\n",
            "6 Pains\n",
            "7 Nasal-Congestion\n",
            "8 Runny-Nose\n",
            "9 Diarrhea\n",
            "10 None_Experiencing\n",
            "11 Age_0-9\n",
            "12 Age_10-19\n",
            "13 Age_20-24\n",
            "14 Age_25-59\n",
            "15 Age_60+\n",
            "16 Gender_Female\n",
            "17 Gender_Male\n",
            "18 Gender_Transgender\n",
            "19 Severity_Mild\n",
            "20 Severity_Moderate\n",
            "21 Severity_None\n",
            "22 Severity_Severe\n",
            "23 Contact_Dont-Know\n",
            "24 Contact_No\n",
            "25 Contact_Yes\n",
            "26 Country\n"
          ],
          "name": "stdout"
        }
      ]
    },
    {
      "cell_type": "code",
      "metadata": {
        "id": "EF-WfGr4ztvn",
        "colab_type": "code",
        "colab": {
          "base_uri": "https://localhost:8080/",
          "height": 34
        },
        "outputId": "88dfc262-9475-48f5-a568-d907d398d474"
      },
      "source": [
        "# Dimension check\n",
        "import numpy as np\n",
        "x = np.array(trainingData)\n",
        "print(np.shape(x))"
      ],
      "execution_count": 2,
      "outputs": [
        {
          "output_type": "stream",
          "text": [
            "(316800, 27)\n"
          ],
          "name": "stdout"
        }
      ]
    },
    {
      "cell_type": "markdown",
      "metadata": {
        "id": "b9p6Zl_21-p-",
        "colab_type": "text"
      },
      "source": [
        "## Re-integrating the data set"
      ]
    },
    {
      "cell_type": "markdown",
      "metadata": {
        "id": "LZmS95-azFqS",
        "colab_type": "text"
      },
      "source": [
        "### Integrating age information "
      ]
    },
    {
      "cell_type": "code",
      "metadata": {
        "id": "GzPzzA360sOR",
        "colab_type": "code",
        "colab": {
          "base_uri": "https://localhost:8080/",
          "height": 136
        },
        "outputId": "9bf3e709-6651-44f4-81eb-167f85ac1396"
      },
      "source": [
        "# Integrating age information \n",
        "# Age_0-9: 0\n",
        "# Age_10-19: 0.25\n",
        "# Age_20-24: 0.5\n",
        "# Age_25-59: 0.75\n",
        "# Age_60+: 1\n",
        "ageColumn = np.zeros((316800,1))\n",
        "for i in range (0, 316800):\n",
        "  if x[i][11] == '1':\n",
        "    ageColumn[i][0] = 0.0\n",
        "  elif x[i][12] == '1':\n",
        "    ageColumn[i][0] = 0.25\n",
        "  elif x[i][13] == '1':\n",
        "    ageColumn[i][0] = 0.5\n",
        "  elif x[i][14] == '1':\n",
        "    ageColumn[i][0] = 0.75\n",
        "  elif x[i][15] == '1':\n",
        "    ageColumn[i][0] = 1.0\n",
        "x = np.append(x, ageColumn, axis=1)\n",
        "x = np.delete(x,[11, 12, 13, 14, 15],1)\n",
        "title = np.delete(title,[11, 12, 13, 14, 15])\n",
        "title = np.append(title, 'Age')\n",
        "print(title)\n",
        "print(x[0])"
      ],
      "execution_count": 3,
      "outputs": [
        {
          "output_type": "stream",
          "text": [
            "['Fever' 'Tiredness' 'Dry-Cough' 'Difficulty-in-Breathing' 'Sore-Throat'\n",
            " 'None_Sympton' 'Pains' 'Nasal-Congestion' 'Runny-Nose' 'Diarrhea'\n",
            " 'None_Experiencing' 'Gender_Female' 'Gender_Male' 'Gender_Transgender'\n",
            " 'Severity_Mild' 'Severity_Moderate' 'Severity_None' 'Severity_Severe'\n",
            " 'Contact_Dont-Know' 'Contact_No' 'Contact_Yes' 'Country' 'Age']\n",
            "['1' '1' '1' '1' '1' '0' '1' '1' '1' '1' '0' '0' '1' '0' '1' '0' '0' '0'\n",
            " '0' '0' '1' 'China' '0.0']\n"
          ],
          "name": "stdout"
        }
      ]
    },
    {
      "cell_type": "markdown",
      "metadata": {
        "id": "3H2xOd8ezPu1",
        "colab_type": "text"
      },
      "source": [
        "### Integrating contact information "
      ]
    },
    {
      "cell_type": "code",
      "metadata": {
        "id": "PO-7tF5szr20",
        "colab_type": "code",
        "colab": {
          "base_uri": "https://localhost:8080/",
          "height": 255
        },
        "outputId": "0cc12614-1e55-42aa-eef8-a7ce765215b7"
      },
      "source": [
        "# Contact_Dont-Know: 0.5\n",
        "# Contact_No: 0\n",
        "# Contact_Yes: 1\n",
        "conColumn = np.zeros((316800,1))\n",
        "for i in range (0, 316800):\n",
        "  if x[i][18] == '1':\n",
        "    conColumn[i][0] = 0.5\n",
        "  elif x[i][19] == '1':\n",
        "    conColumn[i][0] = 0\n",
        "  elif x[i][20] == '1':\n",
        "    conColumn[i][0] = 1\n",
        "x = np.append(x, conColumn, axis=1)\n",
        "x = np.delete(x,[18,19,20],1)\n",
        "title = np.delete(title,[18,19,20])\n",
        "title = np.append(title, 'Contact')\n",
        "print(conColumn)\n",
        "print(title)\n",
        "print(x[0])"
      ],
      "execution_count": 4,
      "outputs": [
        {
          "output_type": "stream",
          "text": [
            "[[1. ]\n",
            " [0. ]\n",
            " [0.5]\n",
            " ...\n",
            " [1. ]\n",
            " [0. ]\n",
            " [0.5]]\n",
            "['Fever' 'Tiredness' 'Dry-Cough' 'Difficulty-in-Breathing' 'Sore-Throat'\n",
            " 'None_Sympton' 'Pains' 'Nasal-Congestion' 'Runny-Nose' 'Diarrhea'\n",
            " 'None_Experiencing' 'Gender_Female' 'Gender_Male' 'Gender_Transgender'\n",
            " 'Severity_Mild' 'Severity_Moderate' 'Severity_None' 'Severity_Severe'\n",
            " 'Country' 'Age' 'Contact']\n",
            "['1' '1' '1' '1' '1' '0' '1' '1' '1' '1' '0' '0' '1' '0' '1' '0' '0' '0'\n",
            " 'China' '0.0' '1.0']\n"
          ],
          "name": "stdout"
        }
      ]
    },
    {
      "cell_type": "markdown",
      "metadata": {
        "id": "WteGST38zL0H",
        "colab_type": "text"
      },
      "source": [
        "### Integrating severity information "
      ]
    },
    {
      "cell_type": "code",
      "metadata": {
        "id": "beB79i2ER3hf",
        "colab_type": "code",
        "colab": {
          "base_uri": "https://localhost:8080/",
          "height": 119
        },
        "outputId": "0b228cc4-1bcf-4b66-a1b6-371875bbd2fb"
      },
      "source": [
        "# Severity_Mild: 0.33\n",
        "# Severity_Moderate: 0.66\n",
        "# Severity_None: 0\n",
        "# Severity_Severe: 1\n",
        "sevColumn = np.zeros((316800,1))\n",
        "for i in range (0, 316800):\n",
        "  if x[i][14] == '1':\n",
        "    sevColumn[i][0] = 0.33\n",
        "  elif x[i][15] == '1':\n",
        "    sevColumn[i][0] = 0.66\n",
        "  elif x[i][16] == '1':\n",
        "    sevColumn[i][0] = 0\n",
        "  elif x[i][17] == '1':\n",
        "    sevColumn[i][0] = 1\n",
        "x = np.append(x, sevColumn, axis=1)\n",
        "x = np.delete(x,[14,15,16,17],1)\n",
        "title = np.delete(title,[14,15,16,17])\n",
        "title = np.append(title, 'Severity')\n",
        "print(title)\n",
        "print(x[0])"
      ],
      "execution_count": 5,
      "outputs": [
        {
          "output_type": "stream",
          "text": [
            "['Fever' 'Tiredness' 'Dry-Cough' 'Difficulty-in-Breathing' 'Sore-Throat'\n",
            " 'None_Sympton' 'Pains' 'Nasal-Congestion' 'Runny-Nose' 'Diarrhea'\n",
            " 'None_Experiencing' 'Gender_Female' 'Gender_Male' 'Gender_Transgender'\n",
            " 'Country' 'Age' 'Contact' 'Severity']\n",
            "['1' '1' '1' '1' '1' '0' '1' '1' '1' '1' '0' '0' '1' '0' 'China' '0.0'\n",
            " '1.0' '0.33']\n"
          ],
          "name": "stdout"
        }
      ]
    },
    {
      "cell_type": "code",
      "metadata": {
        "id": "rTMc_nC-xdBv",
        "colab_type": "code",
        "colab": {
          "base_uri": "https://localhost:8080/",
          "height": 306
        },
        "outputId": "d40b5e7b-2b91-49c3-e3e1-8a4b9b0fa93c"
      },
      "source": [
        "# Delete Country Info \n",
        "# (because it's NaN)\n",
        "x = np.delete(x,14,1)\n",
        "title = np.delete(title,14)\n",
        "for i in range(0, 17):\n",
        "  print(i, title[i])"
      ],
      "execution_count": 6,
      "outputs": [
        {
          "output_type": "stream",
          "text": [
            "0 Fever\n",
            "1 Tiredness\n",
            "2 Dry-Cough\n",
            "3 Difficulty-in-Breathing\n",
            "4 Sore-Throat\n",
            "5 None_Sympton\n",
            "6 Pains\n",
            "7 Nasal-Congestion\n",
            "8 Runny-Nose\n",
            "9 Diarrhea\n",
            "10 None_Experiencing\n",
            "11 Gender_Female\n",
            "12 Gender_Male\n",
            "13 Gender_Transgender\n",
            "14 Age\n",
            "15 Contact\n",
            "16 Severity\n"
          ],
          "name": "stdout"
        }
      ]
    },
    {
      "cell_type": "markdown",
      "metadata": {
        "id": "RMjXqmySU2Ex",
        "colab_type": "text"
      },
      "source": [
        "## Shuffling & Splitting the data set "
      ]
    },
    {
      "cell_type": "code",
      "metadata": {
        "id": "06fI6Ad2U27g",
        "colab_type": "code",
        "colab": {
          "base_uri": "https://localhost:8080/",
          "height": 34
        },
        "outputId": "40f95a22-2de9-41f7-bdf2-eddc1e727c18"
      },
      "source": [
        "np.random.shuffle(x)\n",
        "trainingSet = x[:1000]\n",
        "testingSet = x[1000:]\n",
        "print(np.shape(trainingSet))"
      ],
      "execution_count": 7,
      "outputs": [
        {
          "output_type": "stream",
          "text": [
            "(1000, 17)\n"
          ],
          "name": "stdout"
        }
      ]
    },
    {
      "cell_type": "code",
      "metadata": {
        "id": "jxmAwIr9V9n-",
        "colab_type": "code",
        "colab": {}
      },
      "source": [
        "# A bunch of imports \n",
        "import torch\n",
        "import torch.nn as nn\n",
        "import torch.nn.functional as F\n",
        "import matplotlib.pyplot as plt\n",
        "import torch.optim as optim\n",
        "from tqdm import tqdm_notebook"
      ],
      "execution_count": 8,
      "outputs": []
    },
    {
      "cell_type": "code",
      "metadata": {
        "id": "18amfZb6VXay",
        "colab_type": "code",
        "colab": {
          "base_uri": "https://localhost:8080/",
          "height": 51
        },
        "outputId": "282d9506-4e47-448b-e708-19011be9519b"
      },
      "source": [
        "trainingInput = trainingSet[:,:16]\n",
        "trainingOutput = trainingSet[:,16]\n",
        "trainingInput = trainingInput.astype(np.float)\n",
        "trainingOutput = trainingOutput.astype(np.float)\n",
        "trainingOutput = torch.from_numpy(trainingOutput).float().reshape(-1,1)\n",
        "print(np.shape(trainingOutput))\n",
        "print(np.shape(trainingInput))"
      ],
      "execution_count": 9,
      "outputs": [
        {
          "output_type": "stream",
          "text": [
            "torch.Size([1000, 1])\n",
            "(1000, 16)\n"
          ],
          "name": "stdout"
        }
      ]
    },
    {
      "cell_type": "markdown",
      "metadata": {
        "id": "IwSuHV1v3Ahr",
        "colab_type": "text"
      },
      "source": [
        "## Actual Experiment"
      ]
    },
    {
      "cell_type": "code",
      "metadata": {
        "id": "zJrT25FeyH4U",
        "colab_type": "code",
        "colab": {
          "base_uri": "https://localhost:8080/",
          "height": 34
        },
        "outputId": "66bbe37e-9c08-4a47-d27e-379b600d4674"
      },
      "source": [
        "trainingFeatureNames = title[:-1] # TODO: Are we ending on index 12?\n",
        "inData = {}\n",
        "for i, feature in enumerate(trainingFeatureNames):\n",
        "  inData[i] = torch.from_numpy(trainingInput[:,i]).float().reshape(-1,1) # Can do by feature name or index\n",
        "\n",
        "print(np.shape(inData[0]))"
      ],
      "execution_count": 10,
      "outputs": [
        {
          "output_type": "stream",
          "text": [
            "torch.Size([1000, 1])\n"
          ],
          "name": "stdout"
        }
      ]
    },
    {
      "cell_type": "code",
      "metadata": {
        "id": "l7mozngR22SR",
        "colab_type": "code",
        "colab": {}
      },
      "source": [
        "# Create Net class\n",
        "class Net(nn.Module):\n",
        "  def __init__(self, layerWidth=300):\n",
        "    super(Net, self).__init__();\n",
        "    self.fc1 = nn.Linear(1, layerWidth)\n",
        "    nn.init.kaiming_normal_(self.fc1.weight)\n",
        "    self.fc2 = nn.Linear(layerWidth, layerWidth)\n",
        "    nn.init.kaiming_normal_(self.fc2.weight)\n",
        "    self.fc3 = nn.Linear(layerWidth, layerWidth)\n",
        "    nn.init.kaiming_normal_(self.fc3.weight)\n",
        "    self.fc4 = nn.Linear(layerWidth,1)\n",
        "    nn.init.kaiming_normal_(self.fc4.weight)\n",
        "  def forward (self, x):\n",
        "    x = F.relu(self.fc1(x))\n",
        "    x = F.relu(self.fc2(x))\n",
        "    x = F.relu(self.fc3(x))\n",
        "    x = self.fc4(x)\n",
        "    return x"
      ],
      "execution_count": 11,
      "outputs": []
    },
    {
      "cell_type": "code",
      "metadata": {
        "id": "3x4yolO83E_z",
        "colab_type": "code",
        "colab": {}
      },
      "source": [
        "nets = []\n",
        "for i in range(16):\n",
        "  nets.append( Net() )"
      ],
      "execution_count": 12,
      "outputs": []
    },
    {
      "cell_type": "code",
      "metadata": {
        "id": "IxFi7mPq3QSl",
        "colab_type": "code",
        "colab": {
          "base_uri": "https://localhost:8080/",
          "height": 134,
          "referenced_widgets": [
            "5dff411d23fa46f68ae7ba4ffb946b94",
            "44d4191bb9514c0abc13678a4dcc6d01",
            "ea26645fabb84f9eba29ad06ef84fe0b",
            "a19c06a5bc8c4615a024aaa348d73997",
            "285719913db545b2a45730a5ccef26d9",
            "4890fa3a4ac74408a80cc6dcf6e7ca41",
            "8de98dcaa6744f49a1cbd2744afb5fbc",
            "788141802b7148479d340243474b4743"
          ]
        },
        "outputId": "35d8ad03-6427-4df4-b6e6-b0b572ddbdc7"
      },
      "source": [
        "import torch.optim as optim\n",
        "from tqdm import tqdm_notebook\n",
        "\n",
        "optimizers = [optim.Adam(nets[i].parameters()) for i in range(len(nets))]\n",
        "\n",
        "epochs = tqdm_notebook(range(1000))\n",
        "criterion = nn.MSELoss()\n",
        "for epoch in epochs:\n",
        "  for optimizer in optimizers:\n",
        "    optimizer.zero_grad()\n",
        "\n",
        "  outputs = [nets[i](inData[i]) for i in range(len(nets))]\n",
        "\n",
        "  totalOut = sum(outputs) # TODO: Check that this works.\n",
        "  loss = criterion(totalOut,trainingOutput)\n",
        "  loss.backward()\n",
        "\n",
        "  for optimizer in optimizers:\n",
        "    optimizer.step()\n",
        "\n",
        "  epochs.set_description(str(loss.data.item()))\n",
        "\n",
        "print(loss.data.item())"
      ],
      "execution_count": 13,
      "outputs": [
        {
          "output_type": "stream",
          "text": [
            "/usr/local/lib/python3.6/dist-packages/ipykernel_launcher.py:6: TqdmDeprecationWarning: This function will be removed in tqdm==5.0.0\n",
            "Please use `tqdm.notebook.tqdm` instead of `tqdm.tqdm_notebook`\n",
            "  \n"
          ],
          "name": "stderr"
        },
        {
          "output_type": "display_data",
          "data": {
            "application/vnd.jupyter.widget-view+json": {
              "model_id": "5dff411d23fa46f68ae7ba4ffb946b94",
              "version_minor": 0,
              "version_major": 2
            },
            "text/plain": [
              "HBox(children=(FloatProgress(value=0.0, max=1000.0), HTML(value='')))"
            ]
          },
          "metadata": {
            "tags": []
          }
        },
        {
          "output_type": "stream",
          "text": [
            "\n",
            "0.13510020077228546\n"
          ],
          "name": "stdout"
        }
      ]
    },
    {
      "cell_type": "markdown",
      "metadata": {
        "id": "azySOY_bBgMS",
        "colab_type": "text"
      },
      "source": [
        "## Plots"
      ]
    },
    {
      "cell_type": "code",
      "metadata": {
        "id": "nWfSsCMo4mFa",
        "colab_type": "code",
        "colab": {
          "base_uri": "https://localhost:8080/",
          "height": 1000
        },
        "outputId": "709b75f8-404d-4560-ca5c-5a75aa49f08d"
      },
      "source": [
        "def plotFeatureFunction(featureIndex):\n",
        "  newOutput = outputs[featureIndex].detach().numpy()\n",
        "  # newOutput = newOutput - (np.max(newOutput) + np.min(newOutput))/2\n",
        "  meanOutput = np.mean(newOutput)\n",
        "  newOutput = newOutput - meanOutput\n",
        "  plt.scatter(inData[featureIndex], newOutput)\n",
        "  plt.xlabel(trainingFeatureNames[featureIndex])\n",
        "  plt.ylabel(\"COVID-19 risk\")\n",
        "  plt.show()\n",
        "  return meanOutput\n",
        "\n",
        "scoreOffSet = 0\n",
        "\n",
        "for i in range(len(nets)):\n",
        "  # plotFeatureFunction(i)\n",
        "  scoreOffSet = scoreOffSet + plotFeatureFunction(i)\n",
        "print(scoreOffSet)"
      ],
      "execution_count": 16,
      "outputs": [
        {
          "output_type": "display_data",
          "data": {
            "image/png": "[encoded data removed]",
            "text/plain": [
              "<Figure size 432x288 with 1 Axes>"
            ]
          },
          "metadata": {
            "tags": [],
            "needs_background": "light"
          }
        },
        {
          "output_type": "display_data",
          "data": {
            "image/png": "[encoded data removed]",
            "text/plain": [
              "<Figure size 432x288 with 1 Axes>"
            ]
          },
          "metadata": {
            "tags": [],
            "needs_background": "light"
          }
        },
        {
          "output_type": "display_data",
          "data": {
            "image/png": "[encoded data removed]",
            "text/plain": [
              "<Figure size 432x288 with 1 Axes>"
            ]
          },
          "metadata": {
            "tags": [],
            "needs_background": "light"
          }
        },
        {
          "output_type": "display_data",
          "data": {
            "image/png": "[encoded data removed]",
            "text/plain": [
              "<Figure size 432x288 with 1 Axes>"
            ]
          },
          "metadata": {
            "tags": [],
            "needs_background": "light"
          }
        },
        {
          "output_type": "display_data",
          "data": {
            "image/png": "[encoded data removed]",
            "text/plain": [
              "<Figure size 432x288 with 1 Axes>"
            ]
          },
          "metadata": {
            "tags": [],
            "needs_background": "light"
          }
        },
        {
          "output_type": "display_data",
          "data": {
            "image/png": "[encoded data removed]",
            "text/plain": [
              "<Figure size 432x288 with 1 Axes>"
            ]
          },
          "metadata": {
            "tags": [],
            "needs_background": "light"
          }
        },
        {
          "output_type": "display_data",
          "data": {
            "image/png": "[encoded data removed]",
            "text/plain": [
              "<Figure size 432x288 with 1 Axes>"
            ]
          },
          "metadata": {
            "tags": [],
            "needs_background": "light"
          }
        },
        {
          "output_type": "display_data",
          "data": {
            "image/png": "[encoded data removed]",
            "text/plain": [
              "<Figure size 432x288 with 1 Axes>"
            ]
          },
          "metadata": {
            "tags": [],
            "needs_background": "light"
          }
        },
        {
          "output_type": "display_data",
          "data": {
            "image/png": "[encoded data removed]",
            "text/plain": [
              "<Figure size 432x288 with 1 Axes>"
            ]
          },
          "metadata": {
            "tags": [],
            "needs_background": "light"
          }
        },
        {
          "output_type": "display_data",
          "data": {
            "image/png": "[encoded data removed]",
            "text/plain": [
              "<Figure size 432x288 with 1 Axes>"
            ]
          },
          "metadata": {
            "tags": [],
            "needs_background": "light"
          }
        },
        {
          "output_type": "display_data",
          "data": {
            "image/png": "[encoded data removed]",
            "text/plain": [
              "<Figure size 432x288 with 1 Axes>"
            ]
          },
          "metadata": {
            "tags": [],
            "needs_background": "light"
          }
        },
        {
          "output_type": "display_data",
          "data": {
            "image/png": "[encoded data removed]",
            "text/plain": [
              "<Figure size 432x288 with 1 Axes>"
            ]
          },
          "metadata": {
            "tags": [],
            "needs_background": "light"
          }
        },
        {
          "output_type": "display_data",
          "data": {
            "image/png": "[encoded data removed]",
            "text/plain": [
              "<Figure size 432x288 with 1 Axes>"
            ]
          },
          "metadata": {
            "tags": [],
            "needs_background": "light"
          }
        },
        {
          "output_type": "display_data",
          "data": {
            "image/png": "[encoded data removed]",
            "text/plain": [
              "<Figure size 432x288 with 1 Axes>"
            ]
          },
          "metadata": {
            "tags": [],
            "needs_background": "light"
          }
        },
        {
          "output_type": "display_data",
          "data": {
            "image/png": "[encoded data removed]",
            "text/plain": [
              "<Figure size 432x288 with 1 Axes>"
            ]
          },
          "metadata": {
            "tags": [],
            "needs_background": "light"
          }
        },
        {
          "output_type": "display_data",
          "data": {
            "image/png": "[encoded data removed]",
            "text/plain": [
              "<Figure size 432x288 with 1 Axes>"
            ]
          },
          "metadata": {
            "tags": [],
            "needs_background": "light"
          }
        },
        {
          "output_type": "stream",
          "text": [
            "0.5201011737808585\n"
          ],
          "name": "stdout"
        }
      ]
    },
    {
      "cell_type": "markdown",
      "metadata": {
        "id": "Ioq0qvDmgtap",
        "colab_type": "text"
      },
      "source": [
        "## Testing"
      ]
    },
    {
      "cell_type": "code",
      "metadata": {
        "id": "C0cPdL-zgrp5",
        "colab_type": "code",
        "colab": {
          "base_uri": "https://localhost:8080/",
          "height": 34
        },
        "outputId": "05da9dfd-740a-4323-e258-7d0edc9cb778"
      },
      "source": [
        "testingSet = testingSet[:400]\n",
        "testingInput = testingSet[:,:16]\n",
        "testingOutput = testingSet[:,16]\n",
        "testingInput = testingInput.astype(np.float)\n",
        "testingOutput = testingOutput.astype(np.float)\n",
        "trainingFeatureNames = title[:-1] # TODO: Are we ending on index 12?\n",
        "testData = {}\n",
        "for i, feature in enumerate(trainingFeatureNames):\n",
        "  testData[i] = torch.from_numpy(testingInput[:,i]).float().reshape(-1,1) # Can do by feature name or index\n",
        "\n",
        "print(np.shape(testData[15]))"
      ],
      "execution_count": 14,
      "outputs": [
        {
          "output_type": "stream",
          "text": [
            "torch.Size([400, 1])\n"
          ],
          "name": "stdout"
        }
      ]
    },
    {
      "cell_type": "code",
      "metadata": {
        "id": "A3n89GjxizU1",
        "colab_type": "code",
        "colab": {
          "base_uri": "https://localhost:8080/",
          "height": 34
        },
        "outputId": "f8cf679d-4732-480d-aa08-3b59873fa800"
      },
      "source": [
        "totalOutNp = totalOut.detach().numpy()\n",
        "totalOutNp = totalOutNp - 0.5\n",
        "finalOut = np.ceil(totalOutNp).astype(np.int)\n",
        "trainingOutputNp = trainingOutput.detach().numpy()\n",
        "totalCorrect = 0\n",
        "totalPoints =  trainingOutputNp.size\n",
        "for i in range(totalPoints):\n",
        "  if(finalOut[i] == trainingOutputNp[i]):\n",
        "    totalCorrect += 1\n",
        "print(totalCorrect/totalPoints)"
      ],
      "execution_count": 15,
      "outputs": [
        {
          "output_type": "stream",
          "text": [
            "0.293\n"
          ],
          "name": "stdout"
        }
      ]
    },
    {
      "cell_type": "markdown",
      "metadata": {
        "id": "f9pjc4LlkcQd",
        "colab_type": "text"
      },
      "source": [
        "## Testing Accuracy"
      ]
    },
    {
      "cell_type": "code",
      "metadata": {
        "id": "klPazHiHi0TZ",
        "colab_type": "code",
        "colab": {}
      },
      "source": [
        "prediction = [nets[i](testData[i]) for i in range(len(nets))]\n",
        "totalOut = sum(prediction)"
      ],
      "execution_count": 16,
      "outputs": []
    },
    {
      "cell_type": "code",
      "metadata": {
        "id": "cGeBOeUnkhwG",
        "colab_type": "code",
        "colab": {
          "base_uri": "https://localhost:8080/",
          "height": 34
        },
        "outputId": "181a3a9f-d58c-45c5-b455-b58eafa80099"
      },
      "source": [
        "totalOutNp = totalOut.detach().numpy()\n",
        "totalOutNp = totalOutNp - 0.5\n",
        "finalOut = np.ceil(totalOutNp).astype(np.int)\n",
        "# testingOutputNp = testingOutput.detach().numpy()\n",
        "totalCorrect = 0\n",
        "totalPoints = totalOutNp.size\n",
        "for i in range(totalPoints):\n",
        "  if(finalOut[i] == testingOutput[i]):\n",
        "    totalCorrect += 1\n",
        "print(totalCorrect/totalPoints)"
      ],
      "execution_count": 17,
      "outputs": [
        {
          "output_type": "stream",
          "text": [
            "0.2425\n"
          ],
          "name": "stdout"
        }
      ]
    }
  ]
}